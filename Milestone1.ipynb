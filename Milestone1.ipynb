{
  "cells": [
    {
      "cell_type": "code",
      "execution_count": null,
      "metadata": {
        "id": "NMW64Wl8HP6Y"
      },
      "outputs": [],
      "source": [
        "import numpy as np\n",
        "import pandas as pd\n",
        "import glob\n",
        "from skimage.io import imread\n",
        "from skimage import io\n",
        "from skimage.color import gray2rgb\n",
        "import matplotlib.pyplot as plt\n",
        "from sklearn.preprocessing import LabelEncoder\n",
        "from sklearn import datasets, preprocessing, linear_model\n",
        "from sklearn.model_selection import train_test_split\n",
        "from sklearn.preprocessing import MinMaxScaler\n",
        "from sklearn.metrics import confusion_matrix, classification_report\n",
        "from mlxtend.plotting import plot_confusion_matrix"
      ]
    },
    {
      "cell_type": "code",
      "source": [
        "from google.colab import drive\n",
        "drive.mount('/content/drive')"
      ],
      "metadata": {
        "id": "LrOd1xBZCWNW"
      },
      "execution_count": null,
      "outputs": []
    },
    {
      "cell_type": "code",
      "execution_count": null,
      "metadata": {
        "id": "mCWZnnF8jPOz"
      },
      "outputs": [],
      "source": [
        "!unzip -q 'Group_7.zip'"
      ]
    },
    {
      "cell_type": "code",
      "execution_count": null,
      "metadata": {
        "id": "0JPU7sYxkZBv"
      },
      "outputs": [],
      "source": [
        "def convert_to_csv(path_to_dataset):\n",
        "    image_paths = glob.glob(path_to_dataset + '/*/*/*.JPEG') #retrieve a list of file paths that match the pattern\n",
        "\n",
        "\n",
        "    train_imgs = []\n",
        "    test_imgs = []\n",
        "\n",
        "    for image_path in image_paths:\n",
        "        image = imread(image_path) #loads the image as a NumPy array.\n",
        "        if image.shape[-1] != 3:\n",
        "            image = gray2rgb(image) #If the image is not already a color image then convert it to an RGB image\n",
        "        if image_path.split('/')[-3] == 'train':\n",
        "            train_imgs.append(image.ravel().tolist() + [image_path.split('/')[-2]]) #updated with the flattened image pixel values (converted to a list) followed by the label\n",
        "\n",
        "        else:\n",
        "            test_imgs.append(image.ravel().tolist() + [image_path.split('/')[-2]])\n",
        "\n",
        "    img_0 = imread(image_paths[0]) #Reads the first image from the image_paths list to get an example image for its shape\n",
        "    column_names = [f\"p_{x}\" for x in range(np.prod(img_0.shape))] + ['label'] #Generates a list of column names for the DataFrame and the last column is named \"label\" for the image label.\n",
        "\n",
        "    train_df = pd.DataFrame(train_imgs, columns=column_names)\n",
        "    test_df = pd.DataFrame(test_imgs, columns=column_names)\n",
        "\n",
        "    train_df.to_csv(path_to_dataset+'/train.csv', index=False)\n",
        "    test_df.to_csv(path_to_dataset+'/test.csv', index=False)\n",
        "convert_to_csv('Group_7')"
      ]
    },
    {
      "cell_type": "code",
      "execution_count": null,
      "metadata": {
        "id": "-55W8eirkZEL"
      },
      "outputs": [],
      "source": [
        "df_train = pd.read_csv('Group_7/train.csv')"
      ]
    },
    {
      "cell_type": "code",
      "execution_count": null,
      "metadata": {
        "colab": {
          "base_uri": "https://localhost:8080/"
        },
        "id": "AuhzgxXskZHn",
        "outputId": "a784cd8d-ce0f-40d3-98f5-f14af83a9b36"
      },
      "outputs": [
        {
          "output_type": "execute_result",
          "data": {
            "text/plain": [
              "(2150, 12289)"
            ]
          },
          "metadata": {},
          "execution_count": 8
        }
      ],
      "source": [
        "#data size\n",
        "df_train.shape"
      ]
    },
    {
      "cell_type": "code",
      "execution_count": null,
      "metadata": {
        "colab": {
          "base_uri": "https://localhost:8080/",
          "height": 689
        },
        "id": "az_0y0cjnR1s",
        "outputId": "c809af2f-6806-457c-ab60-7fbf4f9d9203"
      },
      "outputs": [
        {
          "output_type": "execute_result",
          "data": {
            "text/plain": [
              "      p_0  p_1  p_2  p_3  p_4  p_5  p_6  p_7  p_8  p_9  ...  p_12279  p_12280  \\\n",
              "0     103  103  103  103  103  103  103  103  103  103  ...      100      105   \n",
              "1       0    4    0    0    3    0    0    1    0    1  ...        7        5   \n",
              "2     255  201  127  255  202  148  233  166  150   87  ...      137       64   \n",
              "3     202  207  203  248  253  249  252  254  251  249  ...       76       85   \n",
              "4      74   66    4   74   66    3   75   67    4   78  ...       15       16   \n",
              "...   ...  ...  ...  ...  ...  ...  ...  ...  ...  ...  ...      ...      ...   \n",
              "2145  127  152  159  129  154  161  132  157  164  135  ...       23       28   \n",
              "2146    0    0    0    0    0    0    0    0    0    0  ...        0        0   \n",
              "2147   22   21   26   21   20   25   21   20   25   21  ...       56       11   \n",
              "2148  116  122   86  134  138  105  228  224  195  235  ...       25       29   \n",
              "2149  203  199  196  211  207  204  209  201  199  227  ...      188      180   \n",
              "\n",
              "      p_12281  p_12282  p_12283  p_12284  p_12285  p_12286  p_12287      label  \n",
              "0          99      100      105       99      100      105       99  lampshade  \n",
              "1          10        7        0        8        8        0        7  lampshade  \n",
              "2          13      119       52        0       93       30        0  lampshade  \n",
              "3          94      110      118      131      148      158      170  lampshade  \n",
              "4           8       11        8        3       16       13        8  lampshade  \n",
              "...       ...      ...      ...      ...      ...      ...      ...        ...  \n",
              "2145       31       28       33       36       26       31       34   flagpole  \n",
              "2146        0        0        0        0        0        0        0   flagpole  \n",
              "2147        5       55       10        4       54        9        3   flagpole  \n",
              "2148       28        2        8        0       16       22        8   flagpole  \n",
              "2149      169      183      174      165      187      178      169   flagpole  \n",
              "\n",
              "[2150 rows x 12289 columns]"
            ],
            "text/html": [
              "\n",
              "  <div id=\"df-b29a2457-53b0-445c-9b3a-6e0d773581af\" class=\"colab-df-container\">\n",
              "    <div>\n",
              "<style scoped>\n",
              "    .dataframe tbody tr th:only-of-type {\n",
              "        vertical-align: middle;\n",
              "    }\n",
              "\n",
              "    .dataframe tbody tr th {\n",
              "        vertical-align: top;\n",
              "    }\n",
              "\n",
              "    .dataframe thead th {\n",
              "        text-align: right;\n",
              "    }\n",
              "</style>\n",
              "<table border=\"1\" class=\"dataframe\">\n",
              "  <thead>\n",
              "    <tr style=\"text-align: right;\">\n",
              "      <th></th>\n",
              "      <th>p_0</th>\n",
              "      <th>p_1</th>\n",
              "      <th>p_2</th>\n",
              "      <th>p_3</th>\n",
              "      <th>p_4</th>\n",
              "      <th>p_5</th>\n",
              "      <th>p_6</th>\n",
              "      <th>p_7</th>\n",
              "      <th>p_8</th>\n",
              "      <th>p_9</th>\n",
              "      <th>...</th>\n",
              "      <th>p_12279</th>\n",
              "      <th>p_12280</th>\n",
              "      <th>p_12281</th>\n",
              "      <th>p_12282</th>\n",
              "      <th>p_12283</th>\n",
              "      <th>p_12284</th>\n",
              "      <th>p_12285</th>\n",
              "      <th>p_12286</th>\n",
              "      <th>p_12287</th>\n",
              "      <th>label</th>\n",
              "    </tr>\n",
              "  </thead>\n",
              "  <tbody>\n",
              "    <tr>\n",
              "      <th>0</th>\n",
              "      <td>103</td>\n",
              "      <td>103</td>\n",
              "      <td>103</td>\n",
              "      <td>103</td>\n",
              "      <td>103</td>\n",
              "      <td>103</td>\n",
              "      <td>103</td>\n",
              "      <td>103</td>\n",
              "      <td>103</td>\n",
              "      <td>103</td>\n",
              "      <td>...</td>\n",
              "      <td>100</td>\n",
              "      <td>105</td>\n",
              "      <td>99</td>\n",
              "      <td>100</td>\n",
              "      <td>105</td>\n",
              "      <td>99</td>\n",
              "      <td>100</td>\n",
              "      <td>105</td>\n",
              "      <td>99</td>\n",
              "      <td>lampshade</td>\n",
              "    </tr>\n",
              "    <tr>\n",
              "      <th>1</th>\n",
              "      <td>0</td>\n",
              "      <td>4</td>\n",
              "      <td>0</td>\n",
              "      <td>0</td>\n",
              "      <td>3</td>\n",
              "      <td>0</td>\n",
              "      <td>0</td>\n",
              "      <td>1</td>\n",
              "      <td>0</td>\n",
              "      <td>1</td>\n",
              "      <td>...</td>\n",
              "      <td>7</td>\n",
              "      <td>5</td>\n",
              "      <td>10</td>\n",
              "      <td>7</td>\n",
              "      <td>0</td>\n",
              "      <td>8</td>\n",
              "      <td>8</td>\n",
              "      <td>0</td>\n",
              "      <td>7</td>\n",
              "      <td>lampshade</td>\n",
              "    </tr>\n",
              "    <tr>\n",
              "      <th>2</th>\n",
              "      <td>255</td>\n",
              "      <td>201</td>\n",
              "      <td>127</td>\n",
              "      <td>255</td>\n",
              "      <td>202</td>\n",
              "      <td>148</td>\n",
              "      <td>233</td>\n",
              "      <td>166</td>\n",
              "      <td>150</td>\n",
              "      <td>87</td>\n",
              "      <td>...</td>\n",
              "      <td>137</td>\n",
              "      <td>64</td>\n",
              "      <td>13</td>\n",
              "      <td>119</td>\n",
              "      <td>52</td>\n",
              "      <td>0</td>\n",
              "      <td>93</td>\n",
              "      <td>30</td>\n",
              "      <td>0</td>\n",
              "      <td>lampshade</td>\n",
              "    </tr>\n",
              "    <tr>\n",
              "      <th>3</th>\n",
              "      <td>202</td>\n",
              "      <td>207</td>\n",
              "      <td>203</td>\n",
              "      <td>248</td>\n",
              "      <td>253</td>\n",
              "      <td>249</td>\n",
              "      <td>252</td>\n",
              "      <td>254</td>\n",
              "      <td>251</td>\n",
              "      <td>249</td>\n",
              "      <td>...</td>\n",
              "      <td>76</td>\n",
              "      <td>85</td>\n",
              "      <td>94</td>\n",
              "      <td>110</td>\n",
              "      <td>118</td>\n",
              "      <td>131</td>\n",
              "      <td>148</td>\n",
              "      <td>158</td>\n",
              "      <td>170</td>\n",
              "      <td>lampshade</td>\n",
              "    </tr>\n",
              "    <tr>\n",
              "      <th>4</th>\n",
              "      <td>74</td>\n",
              "      <td>66</td>\n",
              "      <td>4</td>\n",
              "      <td>74</td>\n",
              "      <td>66</td>\n",
              "      <td>3</td>\n",
              "      <td>75</td>\n",
              "      <td>67</td>\n",
              "      <td>4</td>\n",
              "      <td>78</td>\n",
              "      <td>...</td>\n",
              "      <td>15</td>\n",
              "      <td>16</td>\n",
              "      <td>8</td>\n",
              "      <td>11</td>\n",
              "      <td>8</td>\n",
              "      <td>3</td>\n",
              "      <td>16</td>\n",
              "      <td>13</td>\n",
              "      <td>8</td>\n",
              "      <td>lampshade</td>\n",
              "    </tr>\n",
              "    <tr>\n",
              "      <th>...</th>\n",
              "      <td>...</td>\n",
              "      <td>...</td>\n",
              "      <td>...</td>\n",
              "      <td>...</td>\n",
              "      <td>...</td>\n",
              "      <td>...</td>\n",
              "      <td>...</td>\n",
              "      <td>...</td>\n",
              "      <td>...</td>\n",
              "      <td>...</td>\n",
              "      <td>...</td>\n",
              "      <td>...</td>\n",
              "      <td>...</td>\n",
              "      <td>...</td>\n",
              "      <td>...</td>\n",
              "      <td>...</td>\n",
              "      <td>...</td>\n",
              "      <td>...</td>\n",
              "      <td>...</td>\n",
              "      <td>...</td>\n",
              "      <td>...</td>\n",
              "    </tr>\n",
              "    <tr>\n",
              "      <th>2145</th>\n",
              "      <td>127</td>\n",
              "      <td>152</td>\n",
              "      <td>159</td>\n",
              "      <td>129</td>\n",
              "      <td>154</td>\n",
              "      <td>161</td>\n",
              "      <td>132</td>\n",
              "      <td>157</td>\n",
              "      <td>164</td>\n",
              "      <td>135</td>\n",
              "      <td>...</td>\n",
              "      <td>23</td>\n",
              "      <td>28</td>\n",
              "      <td>31</td>\n",
              "      <td>28</td>\n",
              "      <td>33</td>\n",
              "      <td>36</td>\n",
              "      <td>26</td>\n",
              "      <td>31</td>\n",
              "      <td>34</td>\n",
              "      <td>flagpole</td>\n",
              "    </tr>\n",
              "    <tr>\n",
              "      <th>2146</th>\n",
              "      <td>0</td>\n",
              "      <td>0</td>\n",
              "      <td>0</td>\n",
              "      <td>0</td>\n",
              "      <td>0</td>\n",
              "      <td>0</td>\n",
              "      <td>0</td>\n",
              "      <td>0</td>\n",
              "      <td>0</td>\n",
              "      <td>0</td>\n",
              "      <td>...</td>\n",
              "      <td>0</td>\n",
              "      <td>0</td>\n",
              "      <td>0</td>\n",
              "      <td>0</td>\n",
              "      <td>0</td>\n",
              "      <td>0</td>\n",
              "      <td>0</td>\n",
              "      <td>0</td>\n",
              "      <td>0</td>\n",
              "      <td>flagpole</td>\n",
              "    </tr>\n",
              "    <tr>\n",
              "      <th>2147</th>\n",
              "      <td>22</td>\n",
              "      <td>21</td>\n",
              "      <td>26</td>\n",
              "      <td>21</td>\n",
              "      <td>20</td>\n",
              "      <td>25</td>\n",
              "      <td>21</td>\n",
              "      <td>20</td>\n",
              "      <td>25</td>\n",
              "      <td>21</td>\n",
              "      <td>...</td>\n",
              "      <td>56</td>\n",
              "      <td>11</td>\n",
              "      <td>5</td>\n",
              "      <td>55</td>\n",
              "      <td>10</td>\n",
              "      <td>4</td>\n",
              "      <td>54</td>\n",
              "      <td>9</td>\n",
              "      <td>3</td>\n",
              "      <td>flagpole</td>\n",
              "    </tr>\n",
              "    <tr>\n",
              "      <th>2148</th>\n",
              "      <td>116</td>\n",
              "      <td>122</td>\n",
              "      <td>86</td>\n",
              "      <td>134</td>\n",
              "      <td>138</td>\n",
              "      <td>105</td>\n",
              "      <td>228</td>\n",
              "      <td>224</td>\n",
              "      <td>195</td>\n",
              "      <td>235</td>\n",
              "      <td>...</td>\n",
              "      <td>25</td>\n",
              "      <td>29</td>\n",
              "      <td>28</td>\n",
              "      <td>2</td>\n",
              "      <td>8</td>\n",
              "      <td>0</td>\n",
              "      <td>16</td>\n",
              "      <td>22</td>\n",
              "      <td>8</td>\n",
              "      <td>flagpole</td>\n",
              "    </tr>\n",
              "    <tr>\n",
              "      <th>2149</th>\n",
              "      <td>203</td>\n",
              "      <td>199</td>\n",
              "      <td>196</td>\n",
              "      <td>211</td>\n",
              "      <td>207</td>\n",
              "      <td>204</td>\n",
              "      <td>209</td>\n",
              "      <td>201</td>\n",
              "      <td>199</td>\n",
              "      <td>227</td>\n",
              "      <td>...</td>\n",
              "      <td>188</td>\n",
              "      <td>180</td>\n",
              "      <td>169</td>\n",
              "      <td>183</td>\n",
              "      <td>174</td>\n",
              "      <td>165</td>\n",
              "      <td>187</td>\n",
              "      <td>178</td>\n",
              "      <td>169</td>\n",
              "      <td>flagpole</td>\n",
              "    </tr>\n",
              "  </tbody>\n",
              "</table>\n",
              "<p>2150 rows × 12289 columns</p>\n",
              "</div>\n",
              "    <div class=\"colab-df-buttons\">\n",
              "\n",
              "  <div class=\"colab-df-container\">\n",
              "    <button class=\"colab-df-convert\" onclick=\"convertToInteractive('df-b29a2457-53b0-445c-9b3a-6e0d773581af')\"\n",
              "            title=\"Convert this dataframe to an interactive table.\"\n",
              "            style=\"display:none;\">\n",
              "\n",
              "  <svg xmlns=\"http://www.w3.org/2000/svg\" height=\"24px\" viewBox=\"0 -960 960 960\">\n",
              "    <path d=\"M120-120v-720h720v720H120Zm60-500h600v-160H180v160Zm220 220h160v-160H400v160Zm0 220h160v-160H400v160ZM180-400h160v-160H180v160Zm440 0h160v-160H620v160ZM180-180h160v-160H180v160Zm440 0h160v-160H620v160Z\"/>\n",
              "  </svg>\n",
              "    </button>\n",
              "\n",
              "  <style>\n",
              "    .colab-df-container {\n",
              "      display:flex;\n",
              "      gap: 12px;\n",
              "    }\n",
              "\n",
              "    .colab-df-convert {\n",
              "      background-color: #E8F0FE;\n",
              "      border: none;\n",
              "      border-radius: 50%;\n",
              "      cursor: pointer;\n",
              "      display: none;\n",
              "      fill: #1967D2;\n",
              "      height: 32px;\n",
              "      padding: 0 0 0 0;\n",
              "      width: 32px;\n",
              "    }\n",
              "\n",
              "    .colab-df-convert:hover {\n",
              "      background-color: #E2EBFA;\n",
              "      box-shadow: 0px 1px 2px rgba(60, 64, 67, 0.3), 0px 1px 3px 1px rgba(60, 64, 67, 0.15);\n",
              "      fill: #174EA6;\n",
              "    }\n",
              "\n",
              "    .colab-df-buttons div {\n",
              "      margin-bottom: 4px;\n",
              "    }\n",
              "\n",
              "    [theme=dark] .colab-df-convert {\n",
              "      background-color: #3B4455;\n",
              "      fill: #D2E3FC;\n",
              "    }\n",
              "\n",
              "    [theme=dark] .colab-df-convert:hover {\n",
              "      background-color: #434B5C;\n",
              "      box-shadow: 0px 1px 3px 1px rgba(0, 0, 0, 0.15);\n",
              "      filter: drop-shadow(0px 1px 2px rgba(0, 0, 0, 0.3));\n",
              "      fill: #FFFFFF;\n",
              "    }\n",
              "  </style>\n",
              "\n",
              "    <script>\n",
              "      const buttonEl =\n",
              "        document.querySelector('#df-b29a2457-53b0-445c-9b3a-6e0d773581af button.colab-df-convert');\n",
              "      buttonEl.style.display =\n",
              "        google.colab.kernel.accessAllowed ? 'block' : 'none';\n",
              "\n",
              "      async function convertToInteractive(key) {\n",
              "        const element = document.querySelector('#df-b29a2457-53b0-445c-9b3a-6e0d773581af');\n",
              "        const dataTable =\n",
              "          await google.colab.kernel.invokeFunction('convertToInteractive',\n",
              "                                                    [key], {});\n",
              "        if (!dataTable) return;\n",
              "\n",
              "        const docLinkHtml = 'Like what you see? Visit the ' +\n",
              "          '<a target=\"_blank\" href=https://colab.research.google.com/notebooks/data_table.ipynb>data table notebook</a>'\n",
              "          + ' to learn more about interactive tables.';\n",
              "        element.innerHTML = '';\n",
              "        dataTable['output_type'] = 'display_data';\n",
              "        await google.colab.output.renderOutput(dataTable, element);\n",
              "        const docLink = document.createElement('div');\n",
              "        docLink.innerHTML = docLinkHtml;\n",
              "        element.appendChild(docLink);\n",
              "      }\n",
              "    </script>\n",
              "  </div>\n",
              "\n",
              "\n",
              "<div id=\"df-072df10e-2711-4b35-854c-f6a50de7d534\">\n",
              "  <button class=\"colab-df-quickchart\" onclick=\"quickchart('df-072df10e-2711-4b35-854c-f6a50de7d534')\"\n",
              "            title=\"Suggest charts\"\n",
              "            style=\"display:none;\">\n",
              "\n",
              "<svg xmlns=\"http://www.w3.org/2000/svg\" height=\"24px\"viewBox=\"0 0 24 24\"\n",
              "     width=\"24px\">\n",
              "    <g>\n",
              "        <path d=\"M19 3H5c-1.1 0-2 .9-2 2v14c0 1.1.9 2 2 2h14c1.1 0 2-.9 2-2V5c0-1.1-.9-2-2-2zM9 17H7v-7h2v7zm4 0h-2V7h2v10zm4 0h-2v-4h2v4z\"/>\n",
              "    </g>\n",
              "</svg>\n",
              "  </button>\n",
              "\n",
              "<style>\n",
              "  .colab-df-quickchart {\n",
              "      --bg-color: #E8F0FE;\n",
              "      --fill-color: #1967D2;\n",
              "      --hover-bg-color: #E2EBFA;\n",
              "      --hover-fill-color: #174EA6;\n",
              "      --disabled-fill-color: #AAA;\n",
              "      --disabled-bg-color: #DDD;\n",
              "  }\n",
              "\n",
              "  [theme=dark] .colab-df-quickchart {\n",
              "      --bg-color: #3B4455;\n",
              "      --fill-color: #D2E3FC;\n",
              "      --hover-bg-color: #434B5C;\n",
              "      --hover-fill-color: #FFFFFF;\n",
              "      --disabled-bg-color: #3B4455;\n",
              "      --disabled-fill-color: #666;\n",
              "  }\n",
              "\n",
              "  .colab-df-quickchart {\n",
              "    background-color: var(--bg-color);\n",
              "    border: none;\n",
              "    border-radius: 50%;\n",
              "    cursor: pointer;\n",
              "    display: none;\n",
              "    fill: var(--fill-color);\n",
              "    height: 32px;\n",
              "    padding: 0;\n",
              "    width: 32px;\n",
              "  }\n",
              "\n",
              "  .colab-df-quickchart:hover {\n",
              "    background-color: var(--hover-bg-color);\n",
              "    box-shadow: 0 1px 2px rgba(60, 64, 67, 0.3), 0 1px 3px 1px rgba(60, 64, 67, 0.15);\n",
              "    fill: var(--button-hover-fill-color);\n",
              "  }\n",
              "\n",
              "  .colab-df-quickchart-complete:disabled,\n",
              "  .colab-df-quickchart-complete:disabled:hover {\n",
              "    background-color: var(--disabled-bg-color);\n",
              "    fill: var(--disabled-fill-color);\n",
              "    box-shadow: none;\n",
              "  }\n",
              "\n",
              "  .colab-df-spinner {\n",
              "    border: 2px solid var(--fill-color);\n",
              "    border-color: transparent;\n",
              "    border-bottom-color: var(--fill-color);\n",
              "    animation:\n",
              "      spin 1s steps(1) infinite;\n",
              "  }\n",
              "\n",
              "  @keyframes spin {\n",
              "    0% {\n",
              "      border-color: transparent;\n",
              "      border-bottom-color: var(--fill-color);\n",
              "      border-left-color: var(--fill-color);\n",
              "    }\n",
              "    20% {\n",
              "      border-color: transparent;\n",
              "      border-left-color: var(--fill-color);\n",
              "      border-top-color: var(--fill-color);\n",
              "    }\n",
              "    30% {\n",
              "      border-color: transparent;\n",
              "      border-left-color: var(--fill-color);\n",
              "      border-top-color: var(--fill-color);\n",
              "      border-right-color: var(--fill-color);\n",
              "    }\n",
              "    40% {\n",
              "      border-color: transparent;\n",
              "      border-right-color: var(--fill-color);\n",
              "      border-top-color: var(--fill-color);\n",
              "    }\n",
              "    60% {\n",
              "      border-color: transparent;\n",
              "      border-right-color: var(--fill-color);\n",
              "    }\n",
              "    80% {\n",
              "      border-color: transparent;\n",
              "      border-right-color: var(--fill-color);\n",
              "      border-bottom-color: var(--fill-color);\n",
              "    }\n",
              "    90% {\n",
              "      border-color: transparent;\n",
              "      border-bottom-color: var(--fill-color);\n",
              "    }\n",
              "  }\n",
              "</style>\n",
              "\n",
              "  <script>\n",
              "    async function quickchart(key) {\n",
              "      const quickchartButtonEl =\n",
              "        document.querySelector('#' + key + ' button');\n",
              "      quickchartButtonEl.disabled = true;  // To prevent multiple clicks.\n",
              "      quickchartButtonEl.classList.add('colab-df-spinner');\n",
              "      try {\n",
              "        const charts = await google.colab.kernel.invokeFunction(\n",
              "            'suggestCharts', [key], {});\n",
              "      } catch (error) {\n",
              "        console.error('Error during call to suggestCharts:', error);\n",
              "      }\n",
              "      quickchartButtonEl.classList.remove('colab-df-spinner');\n",
              "      quickchartButtonEl.classList.add('colab-df-quickchart-complete');\n",
              "    }\n",
              "    (() => {\n",
              "      let quickchartButtonEl =\n",
              "        document.querySelector('#df-072df10e-2711-4b35-854c-f6a50de7d534 button');\n",
              "      quickchartButtonEl.style.display =\n",
              "        google.colab.kernel.accessAllowed ? 'block' : 'none';\n",
              "    })();\n",
              "  </script>\n",
              "</div>\n",
              "    </div>\n",
              "  </div>\n"
            ]
          },
          "metadata": {},
          "execution_count": 9
        },
        {
          "output_type": "stream",
          "name": "stdout",
          "text": [
            "Warning: Total number of columns (12289) exceeds max_columns (20) limiting to first (20) columns.\n"
          ]
        }
      ],
      "source": [
        "df_train"
      ]
    },
    {
      "cell_type": "code",
      "execution_count": null,
      "metadata": {
        "colab": {
          "base_uri": "https://localhost:8080/"
        },
        "id": "slPKEx6woQJL",
        "outputId": "9a615c03-c0e4-4222-af5c-4c2b6fad9c87"
      },
      "outputs": [
        {
          "output_type": "stream",
          "name": "stdout",
          "text": [
            "['lampshade' 'gondola' 'gasmask' 'hourglass' 'flagpole']\n",
            "5\n"
          ]
        }
      ],
      "source": [
        "unique_labels = df_train[\"label\"].unique()\n",
        "print(unique_labels)\n",
        "print(len(unique_labels))   # we have 5 unique labels"
      ]
    },
    {
      "cell_type": "code",
      "execution_count": null,
      "metadata": {
        "colab": {
          "base_uri": "https://localhost:8080/"
        },
        "id": "gEWvxCo3kZJp",
        "outputId": "68383041-540c-4f7c-d6da-b7097148a5c6"
      },
      "outputs": [
        {
          "output_type": "stream",
          "name": "stdout",
          "text": [
            "lampshade    500\n",
            "gondola      500\n",
            "flagpole     500\n",
            "hourglass    400\n",
            "gasmask      250\n",
            "Name: label, dtype: int64\n"
          ]
        }
      ],
      "source": [
        "#data distribution\n",
        "\n",
        "print(df_train.label.value_counts())\n",
        "\n"
      ]
    },
    {
      "cell_type": "code",
      "execution_count": null,
      "metadata": {
        "id": "JJOl0bxCkZOz"
      },
      "outputs": [],
      "source": [
        "df_test = pd.read_csv('Group_7/test.csv')"
      ]
    },
    {
      "cell_type": "code",
      "execution_count": null,
      "metadata": {
        "colab": {
          "base_uri": "https://localhost:8080/"
        },
        "id": "TqfyEIYfkZSK",
        "outputId": "326ecccd-3f88-47b8-c045-0dd5acc5820a"
      },
      "outputs": [
        {
          "output_type": "execute_result",
          "data": {
            "text/plain": [
              "(250, 12289)"
            ]
          },
          "metadata": {},
          "execution_count": 13
        }
      ],
      "source": [
        "df_test.shape"
      ]
    },
    {
      "cell_type": "code",
      "execution_count": null,
      "metadata": {
        "colab": {
          "base_uri": "https://localhost:8080/",
          "height": 617
        },
        "id": "hNJLbq2nlqzK",
        "outputId": "64591e5c-3ada-4148-c22e-f1ac20dc0b5a"
      },
      "outputs": [
        {
          "output_type": "stream",
          "name": "stdout",
          "text": [
            "lampshade    50\n",
            "gondola      50\n",
            "gasmask      50\n",
            "hourglass    50\n",
            "flagpole     50\n",
            "Name: label, dtype: int64\n"
          ]
        },
        {
          "output_type": "display_data",
          "data": {
            "text/plain": [
              "<Figure size 640x480 with 1 Axes>"
            ],
            "image/png": "[encoded data removed]"
          },
          "metadata": {}
        }
      ],
      "source": [
        "print(df_test.label.value_counts())\n",
        "\n",
        "df_test.label.value_counts().plot(kind='bar', title='Count (label)');"
      ]
    },
    {
      "cell_type": "code",
      "execution_count": null,
      "metadata": {
        "id": "1LFPhaH8lq2G"
      },
      "outputs": [],
      "source": [
        "#converting the labels from categorical values to numerical values\n",
        "\n",
        "lab = LabelEncoder()\n",
        "lab.fit(df_train[\"label\"])\n",
        "df_train[\"label\"] = lab.transform(df_train[\"label\"])\n",
        "df_test[\"label\"] = lab.transform(df_test[\"label\"])"
      ]
    },
    {
      "cell_type": "code",
      "execution_count": null,
      "metadata": {
        "colab": {
          "base_uri": "https://localhost:8080/"
        },
        "id": "p5B_VfGYlq4s",
        "outputId": "48927d72-ffa8-4ddf-d029-b9c86b399f2e"
      },
      "outputs": [
        {
          "output_type": "execute_result",
          "data": {
            "text/plain": [
              "0       4\n",
              "1       4\n",
              "2       4\n",
              "3       4\n",
              "4       4\n",
              "       ..\n",
              "2145    0\n",
              "2146    0\n",
              "2147    0\n",
              "2148    0\n",
              "2149    0\n",
              "Name: label, Length: 2150, dtype: int64"
            ]
          },
          "metadata": {},
          "execution_count": 16
        }
      ],
      "source": [
        "df_train['label']"
      ]
    },
    {
      "cell_type": "code",
      "execution_count": null,
      "metadata": {
        "id": "zYD-8J8Zlq7M"
      },
      "outputs": [],
      "source": [
        "X_train = df_train.drop(['label'], axis=1)\n",
        "y_train = df_train[\"label\"]"
      ]
    },
    {
      "cell_type": "code",
      "execution_count": null,
      "metadata": {
        "id": "JUDsFdCDqBqE"
      },
      "outputs": [],
      "source": [
        "X_test= df_test.drop(['label'], axis=1)\n",
        "y_test= df_test[\"label\"]"
      ]
    },
    {
      "cell_type": "code",
      "execution_count": null,
      "metadata": {
        "colab": {
          "base_uri": "https://localhost:8080/",
          "height": 233
        },
        "id": "KfbbQw85qtOK",
        "outputId": "13180b78-7716-4f90-f95e-578a83a85c1a"
      },
      "outputs": [
        {
          "output_type": "execute_result",
          "data": {
            "text/plain": [
              "        p_0       p_1       p_2       p_3       p_4       p_5       p_6  \\\n",
              "0  0.403922  0.403922  0.403922  0.403922  0.403922  0.403922  0.403922   \n",
              "1  0.000000  0.015686  0.000000  0.000000  0.011765  0.000000  0.000000   \n",
              "2  1.000000  0.788235  0.498039  1.000000  0.792157  0.580392  0.913725   \n",
              "3  0.792157  0.811765  0.796078  0.972549  0.992157  0.976471  0.988235   \n",
              "4  0.290196  0.258824  0.015686  0.290196  0.258824  0.011765  0.294118   \n",
              "\n",
              "        p_7       p_8       p_9  ...   p_12278   p_12279   p_12280   p_12281  \\\n",
              "0  0.403922  0.403922  0.403922  ...  0.388235  0.392157  0.411765  0.388235   \n",
              "1  0.003922  0.000000  0.003922  ...  0.023529  0.027451  0.019608  0.039216   \n",
              "2  0.650980  0.588235  0.341176  ...  0.062745  0.537255  0.250980  0.050980   \n",
              "3  0.996078  0.984314  0.976471  ...  0.333333  0.298039  0.333333  0.368627   \n",
              "4  0.262745  0.015686  0.305882  ...  0.000000  0.058824  0.062745  0.031373   \n",
              "\n",
              "    p_12282   p_12283   p_12284   p_12285   p_12286   p_12287  \n",
              "0  0.392157  0.411765  0.388235  0.392157  0.411765  0.388235  \n",
              "1  0.027451  0.000000  0.031373  0.031373  0.000000  0.027451  \n",
              "2  0.466667  0.203922  0.000000  0.364706  0.117647  0.000000  \n",
              "3  0.431373  0.462745  0.513725  0.580392  0.619608  0.666667  \n",
              "4  0.043137  0.031373  0.011765  0.062745  0.050980  0.031373  \n",
              "\n",
              "[5 rows x 12288 columns]"
            ],
            "text/html": [
              "\n",
              "  <div id=\"df-794a9aee-98b5-48ff-a065-4e902d8a8b0a\" class=\"colab-df-container\">\n",
              "    <div>\n",
              "<style scoped>\n",
              "    .dataframe tbody tr th:only-of-type {\n",
              "        vertical-align: middle;\n",
              "    }\n",
              "\n",
              "    .dataframe tbody tr th {\n",
              "        vertical-align: top;\n",
              "    }\n",
              "\n",
              "    .dataframe thead th {\n",
              "        text-align: right;\n",
              "    }\n",
              "</style>\n",
              "<table border=\"1\" class=\"dataframe\">\n",
              "  <thead>\n",
              "    <tr style=\"text-align: right;\">\n",
              "      <th></th>\n",
              "      <th>p_0</th>\n",
              "      <th>p_1</th>\n",
              "      <th>p_2</th>\n",
              "      <th>p_3</th>\n",
              "      <th>p_4</th>\n",
              "      <th>p_5</th>\n",
              "      <th>p_6</th>\n",
              "      <th>p_7</th>\n",
              "      <th>p_8</th>\n",
              "      <th>p_9</th>\n",
              "      <th>...</th>\n",
              "      <th>p_12278</th>\n",
              "      <th>p_12279</th>\n",
              "      <th>p_12280</th>\n",
              "      <th>p_12281</th>\n",
              "      <th>p_12282</th>\n",
              "      <th>p_12283</th>\n",
              "      <th>p_12284</th>\n",
              "      <th>p_12285</th>\n",
              "      <th>p_12286</th>\n",
              "      <th>p_12287</th>\n",
              "    </tr>\n",
              "  </thead>\n",
              "  <tbody>\n",
              "    <tr>\n",
              "      <th>0</th>\n",
              "      <td>0.403922</td>\n",
              "      <td>0.403922</td>\n",
              "      <td>0.403922</td>\n",
              "      <td>0.403922</td>\n",
              "      <td>0.403922</td>\n",
              "      <td>0.403922</td>\n",
              "      <td>0.403922</td>\n",
              "      <td>0.403922</td>\n",
              "      <td>0.403922</td>\n",
              "      <td>0.403922</td>\n",
              "      <td>...</td>\n",
              "      <td>0.388235</td>\n",
              "      <td>0.392157</td>\n",
              "      <td>0.411765</td>\n",
              "      <td>0.388235</td>\n",
              "      <td>0.392157</td>\n",
              "      <td>0.411765</td>\n",
              "      <td>0.388235</td>\n",
              "      <td>0.392157</td>\n",
              "      <td>0.411765</td>\n",
              "      <td>0.388235</td>\n",
              "    </tr>\n",
              "    <tr>\n",
              "      <th>1</th>\n",
              "      <td>0.000000</td>\n",
              "      <td>0.015686</td>\n",
              "      <td>0.000000</td>\n",
              "      <td>0.000000</td>\n",
              "      <td>0.011765</td>\n",
              "      <td>0.000000</td>\n",
              "      <td>0.000000</td>\n",
              "      <td>0.003922</td>\n",
              "      <td>0.000000</td>\n",
              "      <td>0.003922</td>\n",
              "      <td>...</td>\n",
              "      <td>0.023529</td>\n",
              "      <td>0.027451</td>\n",
              "      <td>0.019608</td>\n",
              "      <td>0.039216</td>\n",
              "      <td>0.027451</td>\n",
              "      <td>0.000000</td>\n",
              "      <td>0.031373</td>\n",
              "      <td>0.031373</td>\n",
              "      <td>0.000000</td>\n",
              "      <td>0.027451</td>\n",
              "    </tr>\n",
              "    <tr>\n",
              "      <th>2</th>\n",
              "      <td>1.000000</td>\n",
              "      <td>0.788235</td>\n",
              "      <td>0.498039</td>\n",
              "      <td>1.000000</td>\n",
              "      <td>0.792157</td>\n",
              "      <td>0.580392</td>\n",
              "      <td>0.913725</td>\n",
              "      <td>0.650980</td>\n",
              "      <td>0.588235</td>\n",
              "      <td>0.341176</td>\n",
              "      <td>...</td>\n",
              "      <td>0.062745</td>\n",
              "      <td>0.537255</td>\n",
              "      <td>0.250980</td>\n",
              "      <td>0.050980</td>\n",
              "      <td>0.466667</td>\n",
              "      <td>0.203922</td>\n",
              "      <td>0.000000</td>\n",
              "      <td>0.364706</td>\n",
              "      <td>0.117647</td>\n",
              "      <td>0.000000</td>\n",
              "    </tr>\n",
              "    <tr>\n",
              "      <th>3</th>\n",
              "      <td>0.792157</td>\n",
              "      <td>0.811765</td>\n",
              "      <td>0.796078</td>\n",
              "      <td>0.972549</td>\n",
              "      <td>0.992157</td>\n",
              "      <td>0.976471</td>\n",
              "      <td>0.988235</td>\n",
              "      <td>0.996078</td>\n",
              "      <td>0.984314</td>\n",
              "      <td>0.976471</td>\n",
              "      <td>...</td>\n",
              "      <td>0.333333</td>\n",
              "      <td>0.298039</td>\n",
              "      <td>0.333333</td>\n",
              "      <td>0.368627</td>\n",
              "      <td>0.431373</td>\n",
              "      <td>0.462745</td>\n",
              "      <td>0.513725</td>\n",
              "      <td>0.580392</td>\n",
              "      <td>0.619608</td>\n",
              "      <td>0.666667</td>\n",
              "    </tr>\n",
              "    <tr>\n",
              "      <th>4</th>\n",
              "      <td>0.290196</td>\n",
              "      <td>0.258824</td>\n",
              "      <td>0.015686</td>\n",
              "      <td>0.290196</td>\n",
              "      <td>0.258824</td>\n",
              "      <td>0.011765</td>\n",
              "      <td>0.294118</td>\n",
              "      <td>0.262745</td>\n",
              "      <td>0.015686</td>\n",
              "      <td>0.305882</td>\n",
              "      <td>...</td>\n",
              "      <td>0.000000</td>\n",
              "      <td>0.058824</td>\n",
              "      <td>0.062745</td>\n",
              "      <td>0.031373</td>\n",
              "      <td>0.043137</td>\n",
              "      <td>0.031373</td>\n",
              "      <td>0.011765</td>\n",
              "      <td>0.062745</td>\n",
              "      <td>0.050980</td>\n",
              "      <td>0.031373</td>\n",
              "    </tr>\n",
              "  </tbody>\n",
              "</table>\n",
              "<p>5 rows × 12288 columns</p>\n",
              "</div>\n",
              "    <div class=\"colab-df-buttons\">\n",
              "\n",
              "  <div class=\"colab-df-container\">\n",
              "    <button class=\"colab-df-convert\" onclick=\"convertToInteractive('df-794a9aee-98b5-48ff-a065-4e902d8a8b0a')\"\n",
              "            title=\"Convert this dataframe to an interactive table.\"\n",
              "            style=\"display:none;\">\n",
              "\n",
              "  <svg xmlns=\"http://www.w3.org/2000/svg\" height=\"24px\" viewBox=\"0 -960 960 960\">\n",
              "    <path d=\"M120-120v-720h720v720H120Zm60-500h600v-160H180v160Zm220 220h160v-160H400v160Zm0 220h160v-160H400v160ZM180-400h160v-160H180v160Zm440 0h160v-160H620v160ZM180-180h160v-160H180v160Zm440 0h160v-160H620v160Z\"/>\n",
              "  </svg>\n",
              "    </button>\n",
              "\n",
              "  <style>\n",
              "    .colab-df-container {\n",
              "      display:flex;\n",
              "      gap: 12px;\n",
              "    }\n",
              "\n",
              "    .colab-df-convert {\n",
              "      background-color: #E8F0FE;\n",
              "      border: none;\n",
              "      border-radius: 50%;\n",
              "      cursor: pointer;\n",
              "      display: none;\n",
              "      fill: #1967D2;\n",
              "      height: 32px;\n",
              "      padding: 0 0 0 0;\n",
              "      width: 32px;\n",
              "    }\n",
              "\n",
              "    .colab-df-convert:hover {\n",
              "      background-color: #E2EBFA;\n",
              "      box-shadow: 0px 1px 2px rgba(60, 64, 67, 0.3), 0px 1px 3px 1px rgba(60, 64, 67, 0.15);\n",
              "      fill: #174EA6;\n",
              "    }\n",
              "\n",
              "    .colab-df-buttons div {\n",
              "      margin-bottom: 4px;\n",
              "    }\n",
              "\n",
              "    [theme=dark] .colab-df-convert {\n",
              "      background-color: #3B4455;\n",
              "      fill: #D2E3FC;\n",
              "    }\n",
              "\n",
              "    [theme=dark] .colab-df-convert:hover {\n",
              "      background-color: #434B5C;\n",
              "      box-shadow: 0px 1px 3px 1px rgba(0, 0, 0, 0.15);\n",
              "      filter: drop-shadow(0px 1px 2px rgba(0, 0, 0, 0.3));\n",
              "      fill: #FFFFFF;\n",
              "    }\n",
              "  </style>\n",
              "\n",
              "    <script>\n",
              "      const buttonEl =\n",
              "        document.querySelector('#df-794a9aee-98b5-48ff-a065-4e902d8a8b0a button.colab-df-convert');\n",
              "      buttonEl.style.display =\n",
              "        google.colab.kernel.accessAllowed ? 'block' : 'none';\n",
              "\n",
              "      async function convertToInteractive(key) {\n",
              "        const element = document.querySelector('#df-794a9aee-98b5-48ff-a065-4e902d8a8b0a');\n",
              "        const dataTable =\n",
              "          await google.colab.kernel.invokeFunction('convertToInteractive',\n",
              "                                                    [key], {});\n",
              "        if (!dataTable) return;\n",
              "\n",
              "        const docLinkHtml = 'Like what you see? Visit the ' +\n",
              "          '<a target=\"_blank\" href=https://colab.research.google.com/notebooks/data_table.ipynb>data table notebook</a>'\n",
              "          + ' to learn more about interactive tables.';\n",
              "        element.innerHTML = '';\n",
              "        dataTable['output_type'] = 'display_data';\n",
              "        await google.colab.output.renderOutput(dataTable, element);\n",
              "        const docLink = document.createElement('div');\n",
              "        docLink.innerHTML = docLinkHtml;\n",
              "        element.appendChild(docLink);\n",
              "      }\n",
              "    </script>\n",
              "  </div>\n",
              "\n",
              "\n",
              "<div id=\"df-55b23a14-399c-4c7a-845f-43adc7e34ef3\">\n",
              "  <button class=\"colab-df-quickchart\" onclick=\"quickchart('df-55b23a14-399c-4c7a-845f-43adc7e34ef3')\"\n",
              "            title=\"Suggest charts\"\n",
              "            style=\"display:none;\">\n",
              "\n",
              "<svg xmlns=\"http://www.w3.org/2000/svg\" height=\"24px\"viewBox=\"0 0 24 24\"\n",
              "     width=\"24px\">\n",
              "    <g>\n",
              "        <path d=\"M19 3H5c-1.1 0-2 .9-2 2v14c0 1.1.9 2 2 2h14c1.1 0 2-.9 2-2V5c0-1.1-.9-2-2-2zM9 17H7v-7h2v7zm4 0h-2V7h2v10zm4 0h-2v-4h2v4z\"/>\n",
              "    </g>\n",
              "</svg>\n",
              "  </button>\n",
              "\n",
              "<style>\n",
              "  .colab-df-quickchart {\n",
              "      --bg-color: #E8F0FE;\n",
              "      --fill-color: #1967D2;\n",
              "      --hover-bg-color: #E2EBFA;\n",
              "      --hover-fill-color: #174EA6;\n",
              "      --disabled-fill-color: #AAA;\n",
              "      --disabled-bg-color: #DDD;\n",
              "  }\n",
              "\n",
              "  [theme=dark] .colab-df-quickchart {\n",
              "      --bg-color: #3B4455;\n",
              "      --fill-color: #D2E3FC;\n",
              "      --hover-bg-color: #434B5C;\n",
              "      --hover-fill-color: #FFFFFF;\n",
              "      --disabled-bg-color: #3B4455;\n",
              "      --disabled-fill-color: #666;\n",
              "  }\n",
              "\n",
              "  .colab-df-quickchart {\n",
              "    background-color: var(--bg-color);\n",
              "    border: none;\n",
              "    border-radius: 50%;\n",
              "    cursor: pointer;\n",
              "    display: none;\n",
              "    fill: var(--fill-color);\n",
              "    height: 32px;\n",
              "    padding: 0;\n",
              "    width: 32px;\n",
              "  }\n",
              "\n",
              "  .colab-df-quickchart:hover {\n",
              "    background-color: var(--hover-bg-color);\n",
              "    box-shadow: 0 1px 2px rgba(60, 64, 67, 0.3), 0 1px 3px 1px rgba(60, 64, 67, 0.15);\n",
              "    fill: var(--button-hover-fill-color);\n",
              "  }\n",
              "\n",
              "  .colab-df-quickchart-complete:disabled,\n",
              "  .colab-df-quickchart-complete:disabled:hover {\n",
              "    background-color: var(--disabled-bg-color);\n",
              "    fill: var(--disabled-fill-color);\n",
              "    box-shadow: none;\n",
              "  }\n",
              "\n",
              "  .colab-df-spinner {\n",
              "    border: 2px solid var(--fill-color);\n",
              "    border-color: transparent;\n",
              "    border-bottom-color: var(--fill-color);\n",
              "    animation:\n",
              "      spin 1s steps(1) infinite;\n",
              "  }\n",
              "\n",
              "  @keyframes spin {\n",
              "    0% {\n",
              "      border-color: transparent;\n",
              "      border-bottom-color: var(--fill-color);\n",
              "      border-left-color: var(--fill-color);\n",
              "    }\n",
              "    20% {\n",
              "      border-color: transparent;\n",
              "      border-left-color: var(--fill-color);\n",
              "      border-top-color: var(--fill-color);\n",
              "    }\n",
              "    30% {\n",
              "      border-color: transparent;\n",
              "      border-left-color: var(--fill-color);\n",
              "      border-top-color: var(--fill-color);\n",
              "      border-right-color: var(--fill-color);\n",
              "    }\n",
              "    40% {\n",
              "      border-color: transparent;\n",
              "      border-right-color: var(--fill-color);\n",
              "      border-top-color: var(--fill-color);\n",
              "    }\n",
              "    60% {\n",
              "      border-color: transparent;\n",
              "      border-right-color: var(--fill-color);\n",
              "    }\n",
              "    80% {\n",
              "      border-color: transparent;\n",
              "      border-right-color: var(--fill-color);\n",
              "      border-bottom-color: var(--fill-color);\n",
              "    }\n",
              "    90% {\n",
              "      border-color: transparent;\n",
              "      border-bottom-color: var(--fill-color);\n",
              "    }\n",
              "  }\n",
              "</style>\n",
              "\n",
              "  <script>\n",
              "    async function quickchart(key) {\n",
              "      const quickchartButtonEl =\n",
              "        document.querySelector('#' + key + ' button');\n",
              "      quickchartButtonEl.disabled = true;  // To prevent multiple clicks.\n",
              "      quickchartButtonEl.classList.add('colab-df-spinner');\n",
              "      try {\n",
              "        const charts = await google.colab.kernel.invokeFunction(\n",
              "            'suggestCharts', [key], {});\n",
              "      } catch (error) {\n",
              "        console.error('Error during call to suggestCharts:', error);\n",
              "      }\n",
              "      quickchartButtonEl.classList.remove('colab-df-spinner');\n",
              "      quickchartButtonEl.classList.add('colab-df-quickchart-complete');\n",
              "    }\n",
              "    (() => {\n",
              "      let quickchartButtonEl =\n",
              "        document.querySelector('#df-55b23a14-399c-4c7a-845f-43adc7e34ef3 button');\n",
              "      quickchartButtonEl.style.display =\n",
              "        google.colab.kernel.accessAllowed ? 'block' : 'none';\n",
              "    })();\n",
              "  </script>\n",
              "</div>\n",
              "    </div>\n",
              "  </div>\n"
            ]
          },
          "metadata": {},
          "execution_count": 19
        }
      ],
      "source": [
        "#scaling train\n",
        "\n",
        "X_train_norm = preprocessing.minmax_scale(X_train)\n",
        "df_train = pd.DataFrame(X_train_norm, columns=df_train.columns[:-1])\n",
        "df_train.head()"
      ]
    },
    {
      "cell_type": "code",
      "execution_count": null,
      "metadata": {
        "colab": {
          "base_uri": "https://localhost:8080/",
          "height": 233
        },
        "id": "9ab-CHVdq3Py",
        "outputId": "73805d68-5de3-4779-c118-028e9ac6187f"
      },
      "outputs": [
        {
          "output_type": "execute_result",
          "data": {
            "text/plain": [
              "        p_0       p_1       p_2       p_3       p_4       p_5       p_6  \\\n",
              "0  0.125490  0.078431  0.031373  0.105882  0.066667  0.019608  0.094118   \n",
              "1  1.000000  0.976471  1.000000  0.992157  0.968627  0.968627  1.000000   \n",
              "2  0.458824  0.368627  0.243137  0.458824  0.368627  0.243137  0.462745   \n",
              "3  0.450980  0.450980  0.450980  0.964706  0.964706  0.964706  0.964706   \n",
              "4  0.007843  0.007843  0.007843  0.007843  0.007843  0.007843  0.007843   \n",
              "\n",
              "        p_7       p_8       p_9  ...   p_12278   p_12279   p_12280   p_12281  \\\n",
              "0  0.054902  0.019608  0.082353  ...  0.007843  0.074510  0.066667  0.019608   \n",
              "1  1.000000  0.952941  0.756863  ...  0.988235  0.988235  0.988235  0.988235   \n",
              "2  0.372549  0.247059  0.470588  ...  0.419608  0.337255  0.313725  0.188235   \n",
              "3  0.964706  0.964706  0.964706  ...  0.815686  0.823529  0.807843  0.811765   \n",
              "4  0.007843  0.007843  0.003922  ...  0.000000  0.000000  0.000000  0.000000   \n",
              "\n",
              "    p_12282   p_12283   p_12284   p_12285   p_12286   p_12287  \n",
              "0  0.003922  0.003922  0.000000  0.050980  0.050980  0.019608  \n",
              "1  0.988235  0.988235  0.988235  0.988235  0.988235  0.988235  \n",
              "2  0.086275  0.062745  0.000000  0.090196  0.066667  0.000000  \n",
              "3  0.819608  0.803922  0.807843  0.819608  0.803922  0.807843  \n",
              "4  0.000000  0.000000  0.000000  0.000000  0.000000  0.000000  \n",
              "\n",
              "[5 rows x 12288 columns]"
            ],
            "text/html": [
              "\n",
              "  <div id=\"df-15382597-71e7-4445-80c9-bdc388477b3a\" class=\"colab-df-container\">\n",
              "    <div>\n",
              "<style scoped>\n",
              "    .dataframe tbody tr th:only-of-type {\n",
              "        vertical-align: middle;\n",
              "    }\n",
              "\n",
              "    .dataframe tbody tr th {\n",
              "        vertical-align: top;\n",
              "    }\n",
              "\n",
              "    .dataframe thead th {\n",
              "        text-align: right;\n",
              "    }\n",
              "</style>\n",
              "<table border=\"1\" class=\"dataframe\">\n",
              "  <thead>\n",
              "    <tr style=\"text-align: right;\">\n",
              "      <th></th>\n",
              "      <th>p_0</th>\n",
              "      <th>p_1</th>\n",
              "      <th>p_2</th>\n",
              "      <th>p_3</th>\n",
              "      <th>p_4</th>\n",
              "      <th>p_5</th>\n",
              "      <th>p_6</th>\n",
              "      <th>p_7</th>\n",
              "      <th>p_8</th>\n",
              "      <th>p_9</th>\n",
              "      <th>...</th>\n",
              "      <th>p_12278</th>\n",
              "      <th>p_12279</th>\n",
              "      <th>p_12280</th>\n",
              "      <th>p_12281</th>\n",
              "      <th>p_12282</th>\n",
              "      <th>p_12283</th>\n",
              "      <th>p_12284</th>\n",
              "      <th>p_12285</th>\n",
              "      <th>p_12286</th>\n",
              "      <th>p_12287</th>\n",
              "    </tr>\n",
              "  </thead>\n",
              "  <tbody>\n",
              "    <tr>\n",
              "      <th>0</th>\n",
              "      <td>0.125490</td>\n",
              "      <td>0.078431</td>\n",
              "      <td>0.031373</td>\n",
              "      <td>0.105882</td>\n",
              "      <td>0.066667</td>\n",
              "      <td>0.019608</td>\n",
              "      <td>0.094118</td>\n",
              "      <td>0.054902</td>\n",
              "      <td>0.019608</td>\n",
              "      <td>0.082353</td>\n",
              "      <td>...</td>\n",
              "      <td>0.007843</td>\n",
              "      <td>0.074510</td>\n",
              "      <td>0.066667</td>\n",
              "      <td>0.019608</td>\n",
              "      <td>0.003922</td>\n",
              "      <td>0.003922</td>\n",
              "      <td>0.000000</td>\n",
              "      <td>0.050980</td>\n",
              "      <td>0.050980</td>\n",
              "      <td>0.019608</td>\n",
              "    </tr>\n",
              "    <tr>\n",
              "      <th>1</th>\n",
              "      <td>1.000000</td>\n",
              "      <td>0.976471</td>\n",
              "      <td>1.000000</td>\n",
              "      <td>0.992157</td>\n",
              "      <td>0.968627</td>\n",
              "      <td>0.968627</td>\n",
              "      <td>1.000000</td>\n",
              "      <td>1.000000</td>\n",
              "      <td>0.952941</td>\n",
              "      <td>0.756863</td>\n",
              "      <td>...</td>\n",
              "      <td>0.988235</td>\n",
              "      <td>0.988235</td>\n",
              "      <td>0.988235</td>\n",
              "      <td>0.988235</td>\n",
              "      <td>0.988235</td>\n",
              "      <td>0.988235</td>\n",
              "      <td>0.988235</td>\n",
              "      <td>0.988235</td>\n",
              "      <td>0.988235</td>\n",
              "      <td>0.988235</td>\n",
              "    </tr>\n",
              "    <tr>\n",
              "      <th>2</th>\n",
              "      <td>0.458824</td>\n",
              "      <td>0.368627</td>\n",
              "      <td>0.243137</td>\n",
              "      <td>0.458824</td>\n",
              "      <td>0.368627</td>\n",
              "      <td>0.243137</td>\n",
              "      <td>0.462745</td>\n",
              "      <td>0.372549</td>\n",
              "      <td>0.247059</td>\n",
              "      <td>0.470588</td>\n",
              "      <td>...</td>\n",
              "      <td>0.419608</td>\n",
              "      <td>0.337255</td>\n",
              "      <td>0.313725</td>\n",
              "      <td>0.188235</td>\n",
              "      <td>0.086275</td>\n",
              "      <td>0.062745</td>\n",
              "      <td>0.000000</td>\n",
              "      <td>0.090196</td>\n",
              "      <td>0.066667</td>\n",
              "      <td>0.000000</td>\n",
              "    </tr>\n",
              "    <tr>\n",
              "      <th>3</th>\n",
              "      <td>0.450980</td>\n",
              "      <td>0.450980</td>\n",
              "      <td>0.450980</td>\n",
              "      <td>0.964706</td>\n",
              "      <td>0.964706</td>\n",
              "      <td>0.964706</td>\n",
              "      <td>0.964706</td>\n",
              "      <td>0.964706</td>\n",
              "      <td>0.964706</td>\n",
              "      <td>0.964706</td>\n",
              "      <td>...</td>\n",
              "      <td>0.815686</td>\n",
              "      <td>0.823529</td>\n",
              "      <td>0.807843</td>\n",
              "      <td>0.811765</td>\n",
              "      <td>0.819608</td>\n",
              "      <td>0.803922</td>\n",
              "      <td>0.807843</td>\n",
              "      <td>0.819608</td>\n",
              "      <td>0.803922</td>\n",
              "      <td>0.807843</td>\n",
              "    </tr>\n",
              "    <tr>\n",
              "      <th>4</th>\n",
              "      <td>0.007843</td>\n",
              "      <td>0.007843</td>\n",
              "      <td>0.007843</td>\n",
              "      <td>0.007843</td>\n",
              "      <td>0.007843</td>\n",
              "      <td>0.007843</td>\n",
              "      <td>0.007843</td>\n",
              "      <td>0.007843</td>\n",
              "      <td>0.007843</td>\n",
              "      <td>0.003922</td>\n",
              "      <td>...</td>\n",
              "      <td>0.000000</td>\n",
              "      <td>0.000000</td>\n",
              "      <td>0.000000</td>\n",
              "      <td>0.000000</td>\n",
              "      <td>0.000000</td>\n",
              "      <td>0.000000</td>\n",
              "      <td>0.000000</td>\n",
              "      <td>0.000000</td>\n",
              "      <td>0.000000</td>\n",
              "      <td>0.000000</td>\n",
              "    </tr>\n",
              "  </tbody>\n",
              "</table>\n",
              "<p>5 rows × 12288 columns</p>\n",
              "</div>\n",
              "    <div class=\"colab-df-buttons\">\n",
              "\n",
              "  <div class=\"colab-df-container\">\n",
              "    <button class=\"colab-df-convert\" onclick=\"convertToInteractive('df-15382597-71e7-4445-80c9-bdc388477b3a')\"\n",
              "            title=\"Convert this dataframe to an interactive table.\"\n",
              "            style=\"display:none;\">\n",
              "\n",
              "  <svg xmlns=\"http://www.w3.org/2000/svg\" height=\"24px\" viewBox=\"0 -960 960 960\">\n",
              "    <path d=\"M120-120v-720h720v720H120Zm60-500h600v-160H180v160Zm220 220h160v-160H400v160Zm0 220h160v-160H400v160ZM180-400h160v-160H180v160Zm440 0h160v-160H620v160ZM180-180h160v-160H180v160Zm440 0h160v-160H620v160Z\"/>\n",
              "  </svg>\n",
              "    </button>\n",
              "\n",
              "  <style>\n",
              "    .colab-df-container {\n",
              "      display:flex;\n",
              "      gap: 12px;\n",
              "    }\n",
              "\n",
              "    .colab-df-convert {\n",
              "      background-color: #E8F0FE;\n",
              "      border: none;\n",
              "      border-radius: 50%;\n",
              "      cursor: pointer;\n",
              "      display: none;\n",
              "      fill: #1967D2;\n",
              "      height: 32px;\n",
              "      padding: 0 0 0 0;\n",
              "      width: 32px;\n",
              "    }\n",
              "\n",
              "    .colab-df-convert:hover {\n",
              "      background-color: #E2EBFA;\n",
              "      box-shadow: 0px 1px 2px rgba(60, 64, 67, 0.3), 0px 1px 3px 1px rgba(60, 64, 67, 0.15);\n",
              "      fill: #174EA6;\n",
              "    }\n",
              "\n",
              "    .colab-df-buttons div {\n",
              "      margin-bottom: 4px;\n",
              "    }\n",
              "\n",
              "    [theme=dark] .colab-df-convert {\n",
              "      background-color: #3B4455;\n",
              "      fill: #D2E3FC;\n",
              "    }\n",
              "\n",
              "    [theme=dark] .colab-df-convert:hover {\n",
              "      background-color: #434B5C;\n",
              "      box-shadow: 0px 1px 3px 1px rgba(0, 0, 0, 0.15);\n",
              "      filter: drop-shadow(0px 1px 2px rgba(0, 0, 0, 0.3));\n",
              "      fill: #FFFFFF;\n",
              "    }\n",
              "  </style>\n",
              "\n",
              "    <script>\n",
              "      const buttonEl =\n",
              "        document.querySelector('#df-15382597-71e7-4445-80c9-bdc388477b3a button.colab-df-convert');\n",
              "      buttonEl.style.display =\n",
              "        google.colab.kernel.accessAllowed ? 'block' : 'none';\n",
              "\n",
              "      async function convertToInteractive(key) {\n",
              "        const element = document.querySelector('#df-15382597-71e7-4445-80c9-bdc388477b3a');\n",
              "        const dataTable =\n",
              "          await google.colab.kernel.invokeFunction('convertToInteractive',\n",
              "                                                    [key], {});\n",
              "        if (!dataTable) return;\n",
              "\n",
              "        const docLinkHtml = 'Like what you see? Visit the ' +\n",
              "          '<a target=\"_blank\" href=https://colab.research.google.com/notebooks/data_table.ipynb>data table notebook</a>'\n",
              "          + ' to learn more about interactive tables.';\n",
              "        element.innerHTML = '';\n",
              "        dataTable['output_type'] = 'display_data';\n",
              "        await google.colab.output.renderOutput(dataTable, element);\n",
              "        const docLink = document.createElement('div');\n",
              "        docLink.innerHTML = docLinkHtml;\n",
              "        element.appendChild(docLink);\n",
              "      }\n",
              "    </script>\n",
              "  </div>\n",
              "\n",
              "\n",
              "<div id=\"df-00a576ec-c440-4cc0-9a13-5e293cfa3713\">\n",
              "  <button class=\"colab-df-quickchart\" onclick=\"quickchart('df-00a576ec-c440-4cc0-9a13-5e293cfa3713')\"\n",
              "            title=\"Suggest charts\"\n",
              "            style=\"display:none;\">\n",
              "\n",
              "<svg xmlns=\"http://www.w3.org/2000/svg\" height=\"24px\"viewBox=\"0 0 24 24\"\n",
              "     width=\"24px\">\n",
              "    <g>\n",
              "        <path d=\"M19 3H5c-1.1 0-2 .9-2 2v14c0 1.1.9 2 2 2h14c1.1 0 2-.9 2-2V5c0-1.1-.9-2-2-2zM9 17H7v-7h2v7zm4 0h-2V7h2v10zm4 0h-2v-4h2v4z\"/>\n",
              "    </g>\n",
              "</svg>\n",
              "  </button>\n",
              "\n",
              "<style>\n",
              "  .colab-df-quickchart {\n",
              "      --bg-color: #E8F0FE;\n",
              "      --fill-color: #1967D2;\n",
              "      --hover-bg-color: #E2EBFA;\n",
              "      --hover-fill-color: #174EA6;\n",
              "      --disabled-fill-color: #AAA;\n",
              "      --disabled-bg-color: #DDD;\n",
              "  }\n",
              "\n",
              "  [theme=dark] .colab-df-quickchart {\n",
              "      --bg-color: #3B4455;\n",
              "      --fill-color: #D2E3FC;\n",
              "      --hover-bg-color: #434B5C;\n",
              "      --hover-fill-color: #FFFFFF;\n",
              "      --disabled-bg-color: #3B4455;\n",
              "      --disabled-fill-color: #666;\n",
              "  }\n",
              "\n",
              "  .colab-df-quickchart {\n",
              "    background-color: var(--bg-color);\n",
              "    border: none;\n",
              "    border-radius: 50%;\n",
              "    cursor: pointer;\n",
              "    display: none;\n",
              "    fill: var(--fill-color);\n",
              "    height: 32px;\n",
              "    padding: 0;\n",
              "    width: 32px;\n",
              "  }\n",
              "\n",
              "  .colab-df-quickchart:hover {\n",
              "    background-color: var(--hover-bg-color);\n",
              "    box-shadow: 0 1px 2px rgba(60, 64, 67, 0.3), 0 1px 3px 1px rgba(60, 64, 67, 0.15);\n",
              "    fill: var(--button-hover-fill-color);\n",
              "  }\n",
              "\n",
              "  .colab-df-quickchart-complete:disabled,\n",
              "  .colab-df-quickchart-complete:disabled:hover {\n",
              "    background-color: var(--disabled-bg-color);\n",
              "    fill: var(--disabled-fill-color);\n",
              "    box-shadow: none;\n",
              "  }\n",
              "\n",
              "  .colab-df-spinner {\n",
              "    border: 2px solid var(--fill-color);\n",
              "    border-color: transparent;\n",
              "    border-bottom-color: var(--fill-color);\n",
              "    animation:\n",
              "      spin 1s steps(1) infinite;\n",
              "  }\n",
              "\n",
              "  @keyframes spin {\n",
              "    0% {\n",
              "      border-color: transparent;\n",
              "      border-bottom-color: var(--fill-color);\n",
              "      border-left-color: var(--fill-color);\n",
              "    }\n",
              "    20% {\n",
              "      border-color: transparent;\n",
              "      border-left-color: var(--fill-color);\n",
              "      border-top-color: var(--fill-color);\n",
              "    }\n",
              "    30% {\n",
              "      border-color: transparent;\n",
              "      border-left-color: var(--fill-color);\n",
              "      border-top-color: var(--fill-color);\n",
              "      border-right-color: var(--fill-color);\n",
              "    }\n",
              "    40% {\n",
              "      border-color: transparent;\n",
              "      border-right-color: var(--fill-color);\n",
              "      border-top-color: var(--fill-color);\n",
              "    }\n",
              "    60% {\n",
              "      border-color: transparent;\n",
              "      border-right-color: var(--fill-color);\n",
              "    }\n",
              "    80% {\n",
              "      border-color: transparent;\n",
              "      border-right-color: var(--fill-color);\n",
              "      border-bottom-color: var(--fill-color);\n",
              "    }\n",
              "    90% {\n",
              "      border-color: transparent;\n",
              "      border-bottom-color: var(--fill-color);\n",
              "    }\n",
              "  }\n",
              "</style>\n",
              "\n",
              "  <script>\n",
              "    async function quickchart(key) {\n",
              "      const quickchartButtonEl =\n",
              "        document.querySelector('#' + key + ' button');\n",
              "      quickchartButtonEl.disabled = true;  // To prevent multiple clicks.\n",
              "      quickchartButtonEl.classList.add('colab-df-spinner');\n",
              "      try {\n",
              "        const charts = await google.colab.kernel.invokeFunction(\n",
              "            'suggestCharts', [key], {});\n",
              "      } catch (error) {\n",
              "        console.error('Error during call to suggestCharts:', error);\n",
              "      }\n",
              "      quickchartButtonEl.classList.remove('colab-df-spinner');\n",
              "      quickchartButtonEl.classList.add('colab-df-quickchart-complete');\n",
              "    }\n",
              "    (() => {\n",
              "      let quickchartButtonEl =\n",
              "        document.querySelector('#df-00a576ec-c440-4cc0-9a13-5e293cfa3713 button');\n",
              "      quickchartButtonEl.style.display =\n",
              "        google.colab.kernel.accessAllowed ? 'block' : 'none';\n",
              "    })();\n",
              "  </script>\n",
              "</div>\n",
              "    </div>\n",
              "  </div>\n"
            ]
          },
          "metadata": {},
          "execution_count": 20
        }
      ],
      "source": [
        "#scaling test\n",
        "\n",
        "X_test_norm = preprocessing.minmax_scale(X_test)\n",
        "df_test = pd.DataFrame(X_test_norm, columns=df_test.columns[:-1])\n",
        "df_test.head()"
      ]
    },
    {
      "cell_type": "code",
      "execution_count": null,
      "metadata": {
        "colab": {
          "base_uri": "https://localhost:8080/"
        },
        "id": "D0Azft8zlq94",
        "outputId": "e04cfb5b-4125-473f-a62a-7687bd0df4b3"
      },
      "outputs": [
        {
          "output_type": "stream",
          "name": "stderr",
          "text": [
            "/usr/local/lib/python3.10/dist-packages/sklearn/linear_model/_logistic.py:458: ConvergenceWarning: lbfgs failed to converge (status=1):\n",
            "STOP: TOTAL NO. of ITERATIONS REACHED LIMIT.\n",
            "\n",
            "Increase the number of iterations (max_iter) or scale the data as shown in:\n",
            "    https://scikit-learn.org/stable/modules/preprocessing.html\n",
            "Please also refer to the documentation for alternative solver options:\n",
            "    https://scikit-learn.org/stable/modules/linear_model.html#logistic-regression\n",
            "  n_iter_i = _check_optimize_result(\n"
          ]
        },
        {
          "output_type": "stream",
          "name": "stdout",
          "text": [
            "Training accuracy (%) = 100.0\n",
            "Testing accuracy (%) = 45.2\n"
          ]
        }
      ],
      "source": [
        "model = linear_model.LogisticRegression(C=1, fit_intercept=True,solver='lbfgs', max_iter=1000)\n",
        "model = model.fit(X_train_norm, y_train)\n",
        "\n",
        "y_predict = model.predict(X_test_norm)\n",
        "\n",
        "acc_training = np.mean(y_train == model.predict(X_train_norm))*100\n",
        "acc_testing = np.mean(y_test == y_predict)*100\n",
        "print(\"Training accuracy (%) =\", acc_training)\n",
        "print(\"Testing accuracy (%) =\", acc_testing)"
      ]
    },
    {
      "cell_type": "code",
      "execution_count": null,
      "metadata": {
        "colab": {
          "base_uri": "https://localhost:8080/",
          "height": 449
        },
        "id": "svVRgodylrAQ",
        "outputId": "425cada4-a753-40b2-fa34-50a71900a39a"
      },
      "outputs": [
        {
          "output_type": "display_data",
          "data": {
            "text/plain": [
              "<Figure size 640x480 with 2 Axes>"
            ],
            "image/png": "[encoded data removed]"
          },
          "metadata": {}
        }
      ],
      "source": [
        "#confusion matrix\n",
        "\n",
        "cnf_matrix=confusion_matrix(y_test,y_predict)\n",
        "plot_confusion_matrix(conf_mat=cnf_matrix,show_absolute=True,\n",
        "                                show_normed=True,\n",
        "                                colorbar=True)\n",
        "plt.show()"
      ]
    },
    {
      "cell_type": "code",
      "execution_count": null,
      "metadata": {
        "colab": {
          "base_uri": "https://localhost:8080/"
        },
        "id": "bGFIxhdUlrCy",
        "outputId": "549bee8f-9d3d-4233-a3dd-e4a7d35dc4f1"
      },
      "outputs": [
        {
          "output_type": "stream",
          "name": "stdout",
          "text": [
            "[0.76 0.22 0.38 0.36 0.54] [0.875 0.94  0.89  0.795 0.815] [0.6031746  0.47826087 0.46341463 0.30508475 0.421875  ] [0.93582888 0.82819383 0.85167464 0.83246073 0.87634409] [0.67256637 0.30136986 0.41758242 0.33027523 0.47368421]\n"
          ]
        }
      ],
      "source": [
        "def calc(cnf_matrix):\n",
        "\n",
        "  FP = cnf_matrix.sum(axis=0) - np.diag(cnf_matrix)  #summing up the column values of the confusion matrix and subtracting the corresponding diagonal value (True Positives) for each class\n",
        "  FN = cnf_matrix.sum(axis=1) - np.diag(cnf_matrix)  # summing up the row values of the confusion matrix and subtracting the corresponding diagonal value (True Positives) for each class.\n",
        "  TP = np.diag(cnf_matrix)\n",
        "  TN = cnf_matrix.sum() - (FP + FN + TP)\n",
        "\n",
        "  FP = FP.astype(float)\n",
        "  FN = FN.astype(float)\n",
        "  TP = TP.astype(float)\n",
        "  TN = TN.astype(float)\n",
        "\n",
        "  # Sensitivity, hit rate, recall, or true positive rate\n",
        "  TPR = TP/(TP+FN)\n",
        "\n",
        "  # Specificity or true negative rate\n",
        "  TNR = TN/(TN+FP)\n",
        "\n",
        "  # Precision or positive predictive value\n",
        "  PPV = TP/(TP+FP)\n",
        "\n",
        "  # Negative predictive value\n",
        "  NPV = TN/(TN+FN)\n",
        "\n",
        "  # F1 Score\n",
        "  F1 = 2*((PPV)*(TPR)/(PPV + TPR))\n",
        "\n",
        "  return TPR, TNR, PPV, NPV, F1\n",
        "\n",
        "TPR, TNR, PPV, NPV, F1= calc(cnf_matrix)\n",
        "print(TPR, TNR, PPV, NPV, F1)"
      ]
    },
    {
      "cell_type": "code",
      "execution_count": null,
      "metadata": {
        "colab": {
          "base_uri": "https://localhost:8080/"
        },
        "id": "8BfGJTSlcwG_",
        "outputId": "4f8dd5ef-9951-46da-dfa8-7fc6c51318f2"
      },
      "outputs": [
        {
          "output_type": "stream",
          "name": "stdout",
          "text": [
            "[[0.76, 0.88, 0.6, 0.94, 0.67], [0.22, 0.94, 0.48, 0.83, 0.3], [0.38, 0.89, 0.46, 0.85, 0.42], [0.36, 0.8, 0.31, 0.83, 0.33], [0.54, 0.82, 0.42, 0.88, 0.47]]\n"
          ]
        }
      ],
      "source": [
        "first = []\n",
        "second = []\n",
        "third = []\n",
        "fourth = []\n",
        "fifth = []\n",
        "t=[]\n",
        "\n",
        "t_ML2=[]\n",
        "t_ML2_v2=[]\n",
        "\n",
        "\n",
        "def formTable(a):\n",
        "\n",
        "  for i in range(len(a)):\n",
        "    if i == 0:\n",
        "      first.append(round(a[i],2))\n",
        "    if i == 1:\n",
        "      second.append(round(a[i],2))\n",
        "    if i == 2:\n",
        "      third.append(round(a[i],2))\n",
        "    if i == 3:\n",
        "      fourth.append(round(a[i],2))\n",
        "    if i == 4:\n",
        "      fifth.append(round(a[i],2))\n",
        "\n",
        "formTable(TPR)\n",
        "formTable(TNR)\n",
        "formTable(PPV)\n",
        "formTable(NPV)\n",
        "formTable(F1)\n",
        "\n",
        "t.append(first)\n",
        "t.append(second)\n",
        "t.append(third)\n",
        "t.append(fourth)\n",
        "t.append(fifth)\n",
        "print(t)"
      ]
    },
    {
      "cell_type": "code",
      "execution_count": null,
      "metadata": {
        "colab": {
          "base_uri": "https://localhost:8080/"
        },
        "id": "HIGm_tr0cwJu",
        "outputId": "cff4fdcd-d0cd-4cd6-9f5d-689910802e6f"
      },
      "outputs": [
        {
          "output_type": "execute_result",
          "data": {
            "text/plain": [
              "[[0.76, 0.88, 0.6, 0.94, 0.67],\n",
              " [0.22, 0.94, 0.48, 0.83, 0.3],\n",
              " [0.38, 0.89, 0.46, 0.85, 0.42],\n",
              " [0.36, 0.8, 0.31, 0.83, 0.33],\n",
              " [0.54, 0.82, 0.42, 0.88, 0.47],\n",
              " [0.45, 0.87, 0.45, 0.87, 0.44],\n",
              " [0.45, 0.87, 0.45, 0.87, 0.44]]"
            ]
          },
          "metadata": {},
          "execution_count": 48
        }
      ],
      "source": [
        "\n",
        "slst=[]\n",
        "slst_ML2=[]\n",
        "slst_ML2_t6 =[]\n",
        "def formt(t):\n",
        "  s0=0\n",
        "  s1=0\n",
        "  s2=0\n",
        "  s3=0\n",
        "  s4=0\n",
        "\n",
        "\n",
        "  for i in range(len(t)+1):\n",
        "    for j in range(len(t)):\n",
        "      if i!=0:\n",
        "        break\n",
        "      else:\n",
        "        s0+= t[j][i]\n",
        "      avg_s0 = s0/len(t)\n",
        "    for j in range(len(t)):\n",
        "      if i!=1:\n",
        "        break\n",
        "      else:\n",
        "        s1+= t[j][i]\n",
        "      avg_s1 = s1/len(t)\n",
        "    for j in range(len(t)):\n",
        "      if i!=2:\n",
        "        break\n",
        "      else:\n",
        "        s2+= t[j][i]\n",
        "      avg_s2 = s2/len(t)\n",
        "    for j in range(len(t)):\n",
        "      if i!=3:\n",
        "        break\n",
        "      else:\n",
        "        s3+= t[j][i]\n",
        "      avg_s3 = s3/len(t)\n",
        "    for j in range(len(t)):\n",
        "      if i!=4:\n",
        "        break\n",
        "      else:\n",
        "        s4+= t[j][i]\n",
        "      avg_s4 = s4/len(t)\n",
        "\n",
        "  slst.append(round(avg_s0,2))\n",
        "  slst.append(round(avg_s1,2))\n",
        "  slst.append(round(avg_s2,2))\n",
        "  slst.append(round(avg_s3,2))\n",
        "  slst.append(round(avg_s4,2))\n",
        "  # print(slst)\n",
        "  t.append(slst)\n",
        "  return t\n",
        "formt(t)"
      ]
    },
    {
      "cell_type": "code",
      "execution_count": null,
      "metadata": {
        "colab": {
          "base_uri": "https://localhost:8080/"
        },
        "id": "RTBMQ9D3cwMx",
        "outputId": "98668a5a-0fc4-4dbc-efb8-475c9b356a50"
      },
      "outputs": [
        {
          "output_type": "stream",
          "name": "stdout",
          "text": [
            "     Sensitivity  Specificity   PPV   NPV  F1 Score\n",
            "0           0.76         0.88  0.60  0.94      0.67\n",
            "1           0.22         0.94  0.48  0.83      0.30\n",
            "2           0.38         0.89  0.46  0.85      0.42\n",
            "3           0.36         0.80  0.31  0.83      0.33\n",
            "4           0.54         0.82  0.42  0.88      0.47\n",
            "avg         0.45         0.87  0.45  0.87      0.44\n"
          ]
        }
      ],
      "source": [
        "df = pd.DataFrame(t, columns = ['Sensitivity', 'Specificity', 'PPV', 'NPV', 'F1 Score'], index=['0', '1', '2', '3', '4','avg'])\n",
        "print(df)"
      ]
    },
    {
      "cell_type": "markdown",
      "metadata": {
        "id": "XQTlR1opfXGQ"
      },
      "source": [
        "Neural Network"
      ]
    },
    {
      "cell_type": "code",
      "execution_count": null,
      "metadata": {
        "id": "aKh9en_JcwPS"
      },
      "outputs": [],
      "source": [
        "from tensorflow.keras.models import Sequential\n",
        "from tensorflow.keras.layers import Input, Dense\n",
        "from tensorflow.keras.datasets import mnist\n",
        "from tensorflow.keras.utils import to_categorical, plot_model"
      ]
    },
    {
      "cell_type": "code",
      "execution_count": null,
      "metadata": {
        "id": "_H9nODPmcwSG"
      },
      "outputs": [],
      "source": [
        "# Flatten the inputs\n",
        "X_train_norm = X_train_norm.reshape(X_train_norm.shape[0], -1)\n",
        "X_test_norm = X_test_norm.reshape(X_test_norm.shape[0], -1)"
      ]
    },
    {
      "cell_type": "code",
      "execution_count": null,
      "metadata": {
        "colab": {
          "base_uri": "https://localhost:8080/"
        },
        "id": "hxJGrgG6cwUr",
        "outputId": "3dba0a03-47b3-4cfb-da6e-6ff120a649da"
      },
      "outputs": [
        {
          "output_type": "stream",
          "name": "stdout",
          "text": [
            "shape of X = (2150, 12288)\n",
            "shape of y = (2150, 5)\n"
          ]
        }
      ],
      "source": [
        "# Convert the target to one-hot encoding\n",
        "number_of_classes = 5\n",
        "y_train = to_categorical(y_train, num_classes=number_of_classes)\n",
        "y_test = to_categorical(y_test, num_classes=number_of_classes)\n",
        "\n",
        "\n",
        "print(\"shape of X =\", X_train_norm.shape)\n",
        "print(\"shape of y =\", y_train.shape)"
      ]
    },
    {
      "cell_type": "code",
      "execution_count": null,
      "metadata": {
        "id": "AYejlRCfcwXT"
      },
      "outputs": [],
      "source": [
        "model = Sequential()\n",
        "model.add( Input(shape = (12288,)) )\n",
        "model.add( Dense(512, activation='sigmoid') ) #hidden layer\n",
        "model.add( Dense(64, activation='sigmoid') ) #hidden layer\n",
        "model.add( Dense(64, activation='sigmoid') ) #hidden layer\n",
        "model.add( Dense(number_of_classes, activation='softmax') ) #output layer, activation must be softmax"
      ]
    },
    {
      "cell_type": "code",
      "execution_count": null,
      "metadata": {
        "id": "v5EHXPO5cwZ-"
      },
      "outputs": [],
      "source": [
        "model.compile(optimizer='adam',\n",
        "              loss='categorical_crossentropy',\n",
        "              metrics=['accuracy'])"
      ]
    },
    {
      "cell_type": "code",
      "execution_count": null,
      "metadata": {
        "colab": {
          "base_uri": "https://localhost:8080/",
          "height": 686
        },
        "id": "97eJ9TWfcwco",
        "outputId": "3ed64f76-5d66-4d9c-d538-fefd25d916ab"
      },
      "outputs": [
        {
          "output_type": "execute_result",
          "data": {
            "image/png": "[encoded data removed]",
            "text/plain": [
              "<IPython.core.display.Image object>"
            ]
          },
          "metadata": {},
          "execution_count": 32
        }
      ],
      "source": [
        "plot_model(model, show_shapes=True, show_dtype=True, show_layer_names=True)"
      ]
    },
    {
      "cell_type": "code",
      "execution_count": null,
      "metadata": {
        "id": "R5ZycdSAcwf4"
      },
      "outputs": [],
      "source": [
        "# Trainning the model\n",
        "# model.fit(X_train_norm, y_train, epochs=200, verbose=1)"
      ]
    },
    {
      "cell_type": "code",
      "execution_count": null,
      "metadata": {
        "id": "evP39_dm_9ok"
      },
      "outputs": [],
      "source": [
        "# model.fit(X_train_norm, y_train, epochs=190, verbose=1)"
      ]
    },
    {
      "cell_type": "code",
      "execution_count": null,
      "metadata": {
        "colab": {
          "base_uri": "https://localhost:8080/"
        },
        "id": "EVKqBpHnD_yK",
        "outputId": "281baac9-9389-4bd3-9f66-b6179cf0f051"
      },
      "outputs": [
        {
          "output_type": "stream",
          "name": "stdout",
          "text": [
            "Epoch 1/70\n",
            "68/68 [==============================] - 9s 112ms/step - loss: 1.4975 - accuracy: 0.3981\n",
            "Epoch 2/70\n",
            "68/68 [==============================] - 7s 98ms/step - loss: 1.3452 - accuracy: 0.4488\n",
            "Epoch 3/70\n",
            "68/68 [==============================] - 8s 112ms/step - loss: 1.2879 - accuracy: 0.4753\n",
            "Epoch 4/70\n",
            "68/68 [==============================] - 7s 102ms/step - loss: 1.2601 - accuracy: 0.4907\n",
            "Epoch 5/70\n",
            "68/68 [==============================] - 8s 116ms/step - loss: 1.2428 - accuracy: 0.5084\n",
            "Epoch 6/70\n",
            "68/68 [==============================] - 7s 100ms/step - loss: 1.2219 - accuracy: 0.5060\n",
            "Epoch 7/70\n",
            "68/68 [==============================] - 8s 123ms/step - loss: 1.1986 - accuracy: 0.5205\n",
            "Epoch 8/70\n",
            "68/68 [==============================] - 8s 115ms/step - loss: 1.2092 - accuracy: 0.5181\n",
            "Epoch 9/70\n",
            "68/68 [==============================] - 8s 115ms/step - loss: 1.2098 - accuracy: 0.5153\n",
            "Epoch 10/70\n",
            "68/68 [==============================] - 8s 120ms/step - loss: 1.1803 - accuracy: 0.5447\n",
            "Epoch 11/70\n",
            "68/68 [==============================] - 7s 108ms/step - loss: 1.1997 - accuracy: 0.5214\n",
            "Epoch 12/70\n",
            "68/68 [==============================] - 8s 124ms/step - loss: 1.2141 - accuracy: 0.5228\n",
            "Epoch 13/70\n",
            "68/68 [==============================] - 7s 105ms/step - loss: 1.1714 - accuracy: 0.5479\n",
            "Epoch 14/70\n",
            "68/68 [==============================] - 8s 113ms/step - loss: 1.1892 - accuracy: 0.5274\n",
            "Epoch 15/70\n",
            "68/68 [==============================] - 7s 101ms/step - loss: 1.1563 - accuracy: 0.5437\n",
            "Epoch 16/70\n",
            "68/68 [==============================] - 8s 115ms/step - loss: 1.1460 - accuracy: 0.5567\n",
            "Epoch 17/70\n",
            "68/68 [==============================] - 7s 101ms/step - loss: 1.1821 - accuracy: 0.5367\n",
            "Epoch 18/70\n",
            "68/68 [==============================] - 6s 94ms/step - loss: 1.1206 - accuracy: 0.5526\n",
            "Epoch 19/70\n",
            "68/68 [==============================] - 5s 77ms/step - loss: 1.1299 - accuracy: 0.5628\n",
            "Epoch 20/70\n",
            "68/68 [==============================] - 6s 82ms/step - loss: 1.1160 - accuracy: 0.5712\n",
            "Epoch 21/70\n",
            "68/68 [==============================] - 6s 84ms/step - loss: 1.1103 - accuracy: 0.5540\n",
            "Epoch 22/70\n",
            "68/68 [==============================] - 5s 76ms/step - loss: 1.1256 - accuracy: 0.5367\n",
            "Epoch 23/70\n",
            "68/68 [==============================] - 6s 95ms/step - loss: 1.0789 - accuracy: 0.5651\n",
            "Epoch 24/70\n",
            "68/68 [==============================] - 5s 76ms/step - loss: 1.0882 - accuracy: 0.5628\n",
            "Epoch 25/70\n",
            "68/68 [==============================] - 6s 81ms/step - loss: 1.0581 - accuracy: 0.5791\n",
            "Epoch 26/70\n",
            "68/68 [==============================] - 6s 87ms/step - loss: 1.0711 - accuracy: 0.5758\n",
            "Epoch 27/70\n",
            "68/68 [==============================] - 5s 75ms/step - loss: 1.0606 - accuracy: 0.5786\n",
            "Epoch 28/70\n",
            "68/68 [==============================] - 6s 93ms/step - loss: 1.0866 - accuracy: 0.5702\n",
            "Epoch 29/70\n",
            "68/68 [==============================] - 5s 76ms/step - loss: 1.0240 - accuracy: 0.5963\n",
            "Epoch 30/70\n",
            "68/68 [==============================] - 9s 128ms/step - loss: 1.0169 - accuracy: 0.6005\n",
            "Epoch 31/70\n",
            "68/68 [==============================] - 5s 76ms/step - loss: 0.9865 - accuracy: 0.6079\n",
            "Epoch 32/70\n",
            "68/68 [==============================] - 5s 80ms/step - loss: 1.0727 - accuracy: 0.5814\n",
            "Epoch 33/70\n",
            "68/68 [==============================] - 6s 91ms/step - loss: 1.0287 - accuracy: 0.5833\n",
            "Epoch 34/70\n",
            "68/68 [==============================] - 5s 78ms/step - loss: 1.0306 - accuracy: 0.5926\n",
            "Epoch 35/70\n",
            "68/68 [==============================] - 6s 95ms/step - loss: 0.9989 - accuracy: 0.6172\n",
            "Epoch 36/70\n",
            "68/68 [==============================] - 5s 77ms/step - loss: 0.9665 - accuracy: 0.6153\n",
            "Epoch 37/70\n",
            "68/68 [==============================] - 5s 80ms/step - loss: 0.9640 - accuracy: 0.6242\n",
            "Epoch 38/70\n",
            "68/68 [==============================] - 6s 88ms/step - loss: 0.9968 - accuracy: 0.6070\n",
            "Epoch 39/70\n",
            "68/68 [==============================] - 5s 76ms/step - loss: 0.9904 - accuracy: 0.6009\n",
            "Epoch 40/70\n",
            "68/68 [==============================] - 6s 95ms/step - loss: 0.9718 - accuracy: 0.6233\n",
            "Epoch 41/70\n",
            "68/68 [==============================] - 5s 75ms/step - loss: 0.9447 - accuracy: 0.6335\n",
            "Epoch 42/70\n",
            "68/68 [==============================] - 6s 82ms/step - loss: 1.0011 - accuracy: 0.6005\n",
            "Epoch 43/70\n",
            "68/68 [==============================] - 6s 83ms/step - loss: 0.9838 - accuracy: 0.6186\n",
            "Epoch 44/70\n",
            "68/68 [==============================] - 5s 78ms/step - loss: 0.9335 - accuracy: 0.6335\n",
            "Epoch 45/70\n",
            "68/68 [==============================] - 7s 100ms/step - loss: 0.9170 - accuracy: 0.6377\n",
            "Epoch 46/70\n",
            "68/68 [==============================] - 6s 81ms/step - loss: 0.9347 - accuracy: 0.6372\n",
            "Epoch 47/70\n",
            "68/68 [==============================] - 7s 96ms/step - loss: 0.9426 - accuracy: 0.6386\n",
            "Epoch 48/70\n",
            "68/68 [==============================] - 8s 112ms/step - loss: 0.9168 - accuracy: 0.6391\n",
            "Epoch 49/70\n",
            "68/68 [==============================] - 6s 89ms/step - loss: 0.9203 - accuracy: 0.6353\n",
            "Epoch 50/70\n",
            "68/68 [==============================] - 6s 95ms/step - loss: 0.9176 - accuracy: 0.6372\n",
            "Epoch 51/70\n",
            "68/68 [==============================] - 6s 81ms/step - loss: 0.8991 - accuracy: 0.6447\n",
            "Epoch 52/70\n",
            "68/68 [==============================] - 7s 98ms/step - loss: 0.9153 - accuracy: 0.6326\n",
            "Epoch 53/70\n",
            "68/68 [==============================] - 5s 80ms/step - loss: 0.8547 - accuracy: 0.6619\n",
            "Epoch 54/70\n",
            "68/68 [==============================] - 6s 94ms/step - loss: 0.8668 - accuracy: 0.6507\n",
            "Epoch 55/70\n",
            "68/68 [==============================] - 5s 76ms/step - loss: 0.9397 - accuracy: 0.6358\n",
            "Epoch 56/70\n",
            "68/68 [==============================] - 6s 84ms/step - loss: 0.9436 - accuracy: 0.6316\n",
            "Epoch 57/70\n",
            "68/68 [==============================] - 6s 86ms/step - loss: 0.9042 - accuracy: 0.6484\n",
            "Epoch 58/70\n",
            "68/68 [==============================] - 5s 79ms/step - loss: 0.9022 - accuracy: 0.6540\n",
            "Epoch 59/70\n",
            "68/68 [==============================] - 6s 90ms/step - loss: 0.9105 - accuracy: 0.6544\n",
            "Epoch 60/70\n",
            "68/68 [==============================] - 5s 76ms/step - loss: 0.8933 - accuracy: 0.6619\n",
            "Epoch 61/70\n",
            "68/68 [==============================] - 6s 87ms/step - loss: 0.8856 - accuracy: 0.6665\n",
            "Epoch 62/70\n",
            "68/68 [==============================] - 6s 85ms/step - loss: 0.9190 - accuracy: 0.6433\n",
            "Epoch 63/70\n",
            "68/68 [==============================] - 5s 76ms/step - loss: 0.9267 - accuracy: 0.6530\n",
            "Epoch 64/70\n",
            "68/68 [==============================] - 6s 92ms/step - loss: 0.9168 - accuracy: 0.6558\n",
            "Epoch 65/70\n",
            "68/68 [==============================] - 5s 75ms/step - loss: 0.8801 - accuracy: 0.6670\n",
            "Epoch 66/70\n",
            "68/68 [==============================] - 6s 84ms/step - loss: 0.9139 - accuracy: 0.6507\n",
            "Epoch 67/70\n",
            "68/68 [==============================] - 7s 95ms/step - loss: 0.8728 - accuracy: 0.6707\n",
            "Epoch 68/70\n",
            "68/68 [==============================] - 5s 77ms/step - loss: 0.8615 - accuracy: 0.6637\n",
            "Epoch 69/70\n",
            "68/68 [==============================] - 6s 95ms/step - loss: 0.8618 - accuracy: 0.6772\n",
            "Epoch 70/70\n",
            "68/68 [==============================] - 5s 77ms/step - loss: 0.8426 - accuracy: 0.6781\n"
          ]
        },
        {
          "output_type": "execute_result",
          "data": {
            "text/plain": [
              "<keras.src.callbacks.History at 0x7ac84437e500>"
            ]
          },
          "metadata": {},
          "execution_count": 35
        }
      ],
      "source": [
        "model.fit(X_train_norm, y_train, epochs=70, verbose=1)"
      ]
    },
    {
      "cell_type": "code",
      "execution_count": null,
      "metadata": {
        "colab": {
          "base_uri": "https://localhost:8080/"
        },
        "id": "5mNFY45jfqoZ",
        "outputId": "feb036fa-d2b0-4468-a2ce-8125a722acb0"
      },
      "outputs": [
        {
          "output_type": "stream",
          "name": "stdout",
          "text": [
            "8/8 [==============================] - 0s 24ms/step\n"
          ]
        }
      ],
      "source": [
        "y_pred = model.predict(X_test_norm)\n"
      ]
    },
    {
      "cell_type": "code",
      "execution_count": null,
      "metadata": {
        "id": "BfxODcjlfqq2"
      },
      "outputs": [],
      "source": [
        "y_predicted = np.argmax(y_pred, axis=1)"
      ]
    },
    {
      "cell_type": "code",
      "execution_count": null,
      "metadata": {
        "colab": {
          "base_uri": "https://localhost:8080/"
        },
        "id": "nTgJyDbSfqtt",
        "outputId": "15fc2208-8a94-4532-ed10-cce81757f25f"
      },
      "outputs": [
        {
          "output_type": "stream",
          "name": "stdout",
          "text": [
            "[4 4 4 4 4 4 4 4 4 4 4 4 4 4 4 4 4 4 4 4 4 4 4 4 4 4 4 4 4 4 4 4 4 4 4 4 4\n",
            " 4 4 4 4 4 4 4 4 4 4 4 4 4 2 2 2 2 2 2 2 2 2 2 2 2 2 2 2 2 2 2 2 2 2 2 2 2\n",
            " 2 2 2 2 2 2 2 2 2 2 2 2 2 2 2 2 2 2 2 2 2 2 2 2 2 2 1 1 1 1 1 1 1 1 1 1 1\n",
            " 1 1 1 1 1 1 1 1 1 1 1 1 1 1 1 1 1 1 1 1 1 1 1 1 1 1 1 1 1 1 1 1 1 1 1 1 1\n",
            " 1 1 3 3 3 3 3 3 3 3 3 3 3 3 3 3 3 3 3 3 3 3 3 3 3 3 3 3 3 3 3 3 3 3 3 3 3\n",
            " 3 3 3 3 3 3 3 3 3 3 3 3 3 3 3 0 0 0 0 0 0 0 0 0 0 0 0 0 0 0 0 0 0 0 0 0 0\n",
            " 0 0 0 0 0 0 0 0 0 0 0 0 0 0 0 0 0 0 0 0 0 0 0 0 0 0 0 0]\n"
          ]
        }
      ],
      "source": [
        "y_actual = np.argmax(y_test, axis=1)\n",
        "print(y_actual)"
      ]
    },
    {
      "cell_type": "code",
      "execution_count": null,
      "metadata": {
        "colab": {
          "base_uri": "https://localhost:8080/"
        },
        "id": "jl1fNGXufqwK",
        "outputId": "dba6c64e-cdbd-4368-83f1-9ed962d341f9"
      },
      "outputs": [
        {
          "output_type": "stream",
          "name": "stdout",
          "text": [
            "Testing accuracy (%) = 49.2\n"
          ]
        }
      ],
      "source": [
        "nn_testing = np.mean(y_actual == y_predicted)*100\n",
        "print(\"Testing accuracy (%) =\", nn_testing)"
      ]
    },
    {
      "cell_type": "code",
      "execution_count": null,
      "metadata": {
        "colab": {
          "base_uri": "https://localhost:8080/"
        },
        "id": "G4qI8C5jfqyz",
        "outputId": "100563f8-1464-4b76-b34a-9e9c0ae642e0"
      },
      "outputs": [
        {
          "output_type": "stream",
          "name": "stdout",
          "text": [
            "8/8 [==============================] - 0s 18ms/step - loss: 1.3400 - accuracy: 0.4920\n",
            "Testing accuracy (%) = 0.492000013589859\n"
          ]
        }
      ],
      "source": [
        "# loss_test, pred_test = model.evaluate(X_test_norm, y_test)\n",
        "test_loss, test_acc = model.evaluate(X_test_norm, y_test)\n",
        "print(\"Testing accuracy (%) =\", test_acc)"
      ]
    },
    {
      "cell_type": "code",
      "execution_count": null,
      "metadata": {
        "colab": {
          "base_uri": "https://localhost:8080/",
          "height": 455
        },
        "id": "N4MIf4Mofq1f",
        "outputId": "8e9fa9c6-a28b-4868-cd27-aad1cf6d0a10"
      },
      "outputs": [
        {
          "output_type": "display_data",
          "data": {
            "text/plain": [
              "<Figure size 640x480 with 2 Axes>"
            ],
            "image/png": "[encoded data removed]"
          },
          "metadata": {}
        }
      ],
      "source": [
        "cnf_matrix_ML2=confusion_matrix(y_actual,y_predicted)\n",
        "plot_confusion_matrix(conf_mat=cnf_matrix_ML2,show_absolute=True,\n",
        "                                show_normed=True,\n",
        "                                colorbar=True)\n",
        "plt.show()"
      ]
    },
    {
      "cell_type": "code",
      "execution_count": null,
      "metadata": {
        "id": "UaweYi9gfq5J"
      },
      "outputs": [],
      "source": [
        "TPR_ML2, TNR_ML2, PPV_ML2, NPV_ML2, F1_ML2= calc(cnf_matrix_ML2)"
      ]
    },
    {
      "cell_type": "code",
      "execution_count": null,
      "metadata": {
        "id": "1c63BLSIgDXl"
      },
      "outputs": [],
      "source": [
        "first = []\n",
        "second = []\n",
        "third = []\n",
        "fourth = []\n",
        "fifth = []\n",
        "\n",
        "\n",
        "formTable(TPR_ML2)\n",
        "formTable(TNR_ML2)\n",
        "formTable(PPV_ML2)\n",
        "formTable(NPV_ML2)\n",
        "formTable(F1_ML2)\n",
        "\n",
        "t_ML2.append(first)\n",
        "t_ML2.append(second)\n",
        "t_ML2.append(third)\n",
        "t_ML2.append(fourth)\n",
        "t_ML2.append(fifth)"
      ]
    },
    {
      "cell_type": "code",
      "execution_count": null,
      "metadata": {
        "colab": {
          "base_uri": "https://localhost:8080/"
        },
        "id": "G4qcWyUJgDaX",
        "outputId": "0e76025e-001d-4e1f-f2d1-067b031716b3"
      },
      "outputs": [
        {
          "output_type": "execute_result",
          "data": {
            "text/plain": [
              "[[0.9, 0.68, 0.42, 0.96, 0.57],\n",
              " [0.04, 1.0, 1.0, 0.81, 0.08],\n",
              " [0.48, 0.92, 0.62, 0.88, 0.54],\n",
              " [0.6, 0.81, 0.44, 0.89, 0.51],\n",
              " [0.44, 0.94, 0.67, 0.87, 0.53],\n",
              " [0.49, 0.87, 0.63, 0.88, 0.45]]"
            ]
          },
          "metadata": {},
          "execution_count": 44
        }
      ],
      "source": [
        "slst=[]\n",
        "formt(t_ML2)"
      ]
    },
    {
      "cell_type": "code",
      "execution_count": null,
      "metadata": {
        "colab": {
          "base_uri": "https://localhost:8080/"
        },
        "id": "qBMaPZyvgDcu",
        "outputId": "ce3439b4-29ba-4932-9cc3-0390e865b997"
      },
      "outputs": [
        {
          "output_type": "stream",
          "name": "stdout",
          "text": [
            "     Sensitivity  Specificity   PPV   NPV  F1 Score\n",
            "0           0.90         0.68  0.42  0.96      0.57\n",
            "1           0.04         1.00  1.00  0.81      0.08\n",
            "2           0.48         0.92  0.62  0.88      0.54\n",
            "3           0.60         0.81  0.44  0.89      0.51\n",
            "4           0.44         0.94  0.67  0.87      0.53\n",
            "avg         0.49         0.87  0.63  0.88      0.45\n"
          ]
        }
      ],
      "source": [
        "df_ML2 = pd.DataFrame(t_ML2, columns = ['Sensitivity', 'Specificity', 'PPV', 'NPV', 'F1 Score'], index=['0', '1', '2', '3', '4','avg'])\n",
        "print(df_ML2)"
      ]
    },
    {
      "cell_type": "markdown",
      "metadata": {
        "id": "n9V0dz7gv-Km"
      },
      "source": [
        "Comparison"
      ]
    },
    {
      "cell_type": "code",
      "execution_count": null,
      "metadata": {
        "colab": {
          "base_uri": "https://localhost:8080/"
        },
        "id": "QV0QC7Ry0238",
        "outputId": "c12191d9-1e2c-491d-df97-a16154c16882"
      },
      "outputs": [
        {
          "output_type": "stream",
          "name": "stdout",
          "text": [
            "Requirement already satisfied: matplotlib in /usr/local/lib/python3.10/dist-packages (3.7.1)\n",
            "Requirement already satisfied: contourpy>=1.0.1 in /usr/local/lib/python3.10/dist-packages (from matplotlib) (1.2.0)\n",
            "Requirement already satisfied: cycler>=0.10 in /usr/local/lib/python3.10/dist-packages (from matplotlib) (0.12.1)\n",
            "Requirement already satisfied: fonttools>=4.22.0 in /usr/local/lib/python3.10/dist-packages (from matplotlib) (4.45.1)\n",
            "Requirement already satisfied: kiwisolver>=1.0.1 in /usr/local/lib/python3.10/dist-packages (from matplotlib) (1.4.5)\n",
            "Requirement already satisfied: numpy>=1.20 in /usr/local/lib/python3.10/dist-packages (from matplotlib) (1.23.5)\n",
            "Requirement already satisfied: packaging>=20.0 in /usr/local/lib/python3.10/dist-packages (from matplotlib) (23.2)\n",
            "Requirement already satisfied: pillow>=6.2.0 in /usr/local/lib/python3.10/dist-packages (from matplotlib) (9.4.0)\n",
            "Requirement already satisfied: pyparsing>=2.3.1 in /usr/local/lib/python3.10/dist-packages (from matplotlib) (3.1.1)\n",
            "Requirement already satisfied: python-dateutil>=2.7 in /usr/local/lib/python3.10/dist-packages (from matplotlib) (2.8.2)\n",
            "Requirement already satisfied: six>=1.5 in /usr/local/lib/python3.10/dist-packages (from python-dateutil>=2.7->matplotlib) (1.16.0)\n"
          ]
        }
      ],
      "source": [
        "pip install matplotlib"
      ]
    },
    {
      "cell_type": "code",
      "execution_count": null,
      "metadata": {
        "colab": {
          "base_uri": "https://localhost:8080/",
          "height": 487
        },
        "id": "Y_vmVeJHwDRO",
        "outputId": "74259eb2-91b7-433d-8259-8633b083a78d"
      },
      "outputs": [
        {
          "output_type": "display_data",
          "data": {
            "text/plain": [
              "<Figure size 640x480 with 1 Axes>"
            ],
            "image/png": "[encoded data removed]"
          },
          "metadata": {}
        }
      ],
      "source": [
        "import matplotlib.pyplot as plt\n",
        "\n",
        "# Example data\n",
        "categories = ['LR Train', 'LR Test', 'NN Train', 'NN Test']\n",
        "values = [acc_training, acc_testing, 88.51, nn_testing]\n",
        "\n",
        "# Bar width\n",
        "bar_width = 0.4\n",
        "\n",
        "# Create the bar chart\n",
        "plt.bar(categories, values, width=bar_width, color='blue')\n",
        "\n",
        "# Add labels and title\n",
        "plt.xlabel('Models')\n",
        "plt.ylabel('Accuracy')\n",
        "plt.title('Comparison')\n",
        "\n",
        "# Show the plot\n",
        "plt.tight_layout()\n",
        "plt.show()\n"
      ]
    }
  ],
  "metadata": {
    "colab": {
      "provenance": []
    },
    "kernelspec": {
      "display_name": "Python 3",
      "name": "python3"
    },
    "language_info": {
      "name": "python"
    }
  },
  "nbformat": 4,
  "nbformat_minor": 0
}